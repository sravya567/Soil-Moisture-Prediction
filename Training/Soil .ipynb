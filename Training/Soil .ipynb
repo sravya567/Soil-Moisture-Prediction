{
 "cells": [
  {
   "cell_type": "code",
   "execution_count": 1,
   "id": "84ed4f21",
   "metadata": {},
   "outputs": [],
   "source": [
    "import numpy as np\n",
    "import pandas as pd\n",
    "import matplotlib.pyplot as plt\n",
    "import seaborn as sns"
   ]
  },
  {
   "cell_type": "code",
   "execution_count": 2,
   "id": "a6c7869a",
   "metadata": {},
   "outputs": [
    {
     "data": {
      "text/html": [
       "<div>\n",
       "<style scoped>\n",
       "    .dataframe tbody tr th:only-of-type {\n",
       "        vertical-align: middle;\n",
       "    }\n",
       "\n",
       "    .dataframe tbody tr th {\n",
       "        vertical-align: top;\n",
       "    }\n",
       "\n",
       "    .dataframe thead th {\n",
       "        text-align: right;\n",
       "    }\n",
       "</style>\n",
       "<table border=\"1\" class=\"dataframe\">\n",
       "  <thead>\n",
       "    <tr style=\"text-align: right;\">\n",
       "      <th></th>\n",
       "      <th>Month</th>\n",
       "      <th>Day</th>\n",
       "      <th>avg_pm1</th>\n",
       "      <th>avg_pm2</th>\n",
       "      <th>avg_pm3</th>\n",
       "      <th>avg_am</th>\n",
       "      <th>avg_lum</th>\n",
       "      <th>avg_temp</th>\n",
       "      <th>avg_humd</th>\n",
       "      <th>avg_pres</th>\n",
       "      <th>avg_sm</th>\n",
       "    </tr>\n",
       "  </thead>\n",
       "  <tbody>\n",
       "    <tr>\n",
       "      <th>0</th>\n",
       "      <td>Jul</td>\n",
       "      <td>18</td>\n",
       "      <td>3.548400</td>\n",
       "      <td>5.929200</td>\n",
       "      <td>24.940800</td>\n",
       "      <td>0.000000</td>\n",
       "      <td>2208.880000</td>\n",
       "      <td>21.660300</td>\n",
       "      <td>90.785900</td>\n",
       "      <td>92940.33720</td>\n",
       "      <td>7435.450000</td>\n",
       "    </tr>\n",
       "    <tr>\n",
       "      <th>1</th>\n",
       "      <td>Jul</td>\n",
       "      <td>19</td>\n",
       "      <td>3.416827</td>\n",
       "      <td>6.403133</td>\n",
       "      <td>116.188916</td>\n",
       "      <td>0.000000</td>\n",
       "      <td>3241.160643</td>\n",
       "      <td>23.232932</td>\n",
       "      <td>85.260723</td>\n",
       "      <td>92980.24438</td>\n",
       "      <td>7292.257028</td>\n",
       "    </tr>\n",
       "    <tr>\n",
       "      <th>2</th>\n",
       "      <td>Jul</td>\n",
       "      <td>20</td>\n",
       "      <td>3.030642</td>\n",
       "      <td>5.580000</td>\n",
       "      <td>132.736096</td>\n",
       "      <td>0.000000</td>\n",
       "      <td>3333.941176</td>\n",
       "      <td>23.238877</td>\n",
       "      <td>83.925134</td>\n",
       "      <td>93012.82439</td>\n",
       "      <td>7696.133690</td>\n",
       "    </tr>\n",
       "    <tr>\n",
       "      <th>3</th>\n",
       "      <td>Jul</td>\n",
       "      <td>21</td>\n",
       "      <td>3.091991</td>\n",
       "      <td>5.580000</td>\n",
       "      <td>128.520000</td>\n",
       "      <td>0.000000</td>\n",
       "      <td>3523.764706</td>\n",
       "      <td>23.670136</td>\n",
       "      <td>81.513756</td>\n",
       "      <td>93014.88014</td>\n",
       "      <td>7489.737557</td>\n",
       "    </tr>\n",
       "    <tr>\n",
       "      <th>4</th>\n",
       "      <td>Jul</td>\n",
       "      <td>22</td>\n",
       "      <td>3.129000</td>\n",
       "      <td>5.580000</td>\n",
       "      <td>128.520000</td>\n",
       "      <td>0.000000</td>\n",
       "      <td>3756.722727</td>\n",
       "      <td>23.031273</td>\n",
       "      <td>83.486409</td>\n",
       "      <td>93053.78677</td>\n",
       "      <td>7407.200000</td>\n",
       "    </tr>\n",
       "    <tr>\n",
       "      <th>...</th>\n",
       "      <td>...</td>\n",
       "      <td>...</td>\n",
       "      <td>...</td>\n",
       "      <td>...</td>\n",
       "      <td>...</td>\n",
       "      <td>...</td>\n",
       "      <td>...</td>\n",
       "      <td>...</td>\n",
       "      <td>...</td>\n",
       "      <td>...</td>\n",
       "      <td>...</td>\n",
       "    </tr>\n",
       "    <tr>\n",
       "      <th>219</th>\n",
       "      <td>Mar</td>\n",
       "      <td>6</td>\n",
       "      <td>0.879412</td>\n",
       "      <td>1.175882</td>\n",
       "      <td>27.509412</td>\n",
       "      <td>1.568627</td>\n",
       "      <td>2370.686275</td>\n",
       "      <td>25.522157</td>\n",
       "      <td>30.625490</td>\n",
       "      <td>93506.18961</td>\n",
       "      <td>328.196078</td>\n",
       "    </tr>\n",
       "    <tr>\n",
       "      <th>220</th>\n",
       "      <td>Mar</td>\n",
       "      <td>7</td>\n",
       "      <td>0.894615</td>\n",
       "      <td>1.196154</td>\n",
       "      <td>27.549231</td>\n",
       "      <td>2.907692</td>\n",
       "      <td>2919.384615</td>\n",
       "      <td>24.350192</td>\n",
       "      <td>34.319808</td>\n",
       "      <td>93501.60115</td>\n",
       "      <td>327.980769</td>\n",
       "    </tr>\n",
       "    <tr>\n",
       "      <th>221</th>\n",
       "      <td>Mar</td>\n",
       "      <td>8</td>\n",
       "      <td>0.879412</td>\n",
       "      <td>1.175882</td>\n",
       "      <td>27.509412</td>\n",
       "      <td>2.525490</td>\n",
       "      <td>2928.392157</td>\n",
       "      <td>24.857059</td>\n",
       "      <td>36.378824</td>\n",
       "      <td>93480.91706</td>\n",
       "      <td>327.039216</td>\n",
       "    </tr>\n",
       "    <tr>\n",
       "      <th>222</th>\n",
       "      <td>Mar</td>\n",
       "      <td>9</td>\n",
       "      <td>0.894615</td>\n",
       "      <td>1.196154</td>\n",
       "      <td>27.549231</td>\n",
       "      <td>2.276923</td>\n",
       "      <td>2852.634615</td>\n",
       "      <td>25.280385</td>\n",
       "      <td>32.512115</td>\n",
       "      <td>93407.17558</td>\n",
       "      <td>327.076923</td>\n",
       "    </tr>\n",
       "    <tr>\n",
       "      <th>223</th>\n",
       "      <td>Mar</td>\n",
       "      <td>10</td>\n",
       "      <td>0.866522</td>\n",
       "      <td>1.207391</td>\n",
       "      <td>27.714783</td>\n",
       "      <td>1.182609</td>\n",
       "      <td>2302.434783</td>\n",
       "      <td>21.228261</td>\n",
       "      <td>39.660870</td>\n",
       "      <td>93448.49174</td>\n",
       "      <td>326.652174</td>\n",
       "    </tr>\n",
       "  </tbody>\n",
       "</table>\n",
       "<p>224 rows × 11 columns</p>\n",
       "</div>"
      ],
      "text/plain": [
       "    Month  Day   avg_pm1   avg_pm2     avg_pm3    avg_am      avg_lum  \\\n",
       "0     Jul   18  3.548400  5.929200   24.940800  0.000000  2208.880000   \n",
       "1     Jul   19  3.416827  6.403133  116.188916  0.000000  3241.160643   \n",
       "2     Jul   20  3.030642  5.580000  132.736096  0.000000  3333.941176   \n",
       "3     Jul   21  3.091991  5.580000  128.520000  0.000000  3523.764706   \n",
       "4     Jul   22  3.129000  5.580000  128.520000  0.000000  3756.722727   \n",
       "..    ...  ...       ...       ...         ...       ...          ...   \n",
       "219   Mar    6  0.879412  1.175882   27.509412  1.568627  2370.686275   \n",
       "220   Mar    7  0.894615  1.196154   27.549231  2.907692  2919.384615   \n",
       "221   Mar    8  0.879412  1.175882   27.509412  2.525490  2928.392157   \n",
       "222   Mar    9  0.894615  1.196154   27.549231  2.276923  2852.634615   \n",
       "223   Mar   10  0.866522  1.207391   27.714783  1.182609  2302.434783   \n",
       "\n",
       "      avg_temp   avg_humd     avg_pres       avg_sm  \n",
       "0    21.660300  90.785900  92940.33720  7435.450000  \n",
       "1    23.232932  85.260723  92980.24438  7292.257028  \n",
       "2    23.238877  83.925134  93012.82439  7696.133690  \n",
       "3    23.670136  81.513756  93014.88014  7489.737557  \n",
       "4    23.031273  83.486409  93053.78677  7407.200000  \n",
       "..         ...        ...          ...          ...  \n",
       "219  25.522157  30.625490  93506.18961   328.196078  \n",
       "220  24.350192  34.319808  93501.60115   327.980769  \n",
       "221  24.857059  36.378824  93480.91706   327.039216  \n",
       "222  25.280385  32.512115  93407.17558   327.076923  \n",
       "223  21.228261  39.660870  93448.49174   326.652174  \n",
       "\n",
       "[224 rows x 11 columns]"
      ]
     },
     "execution_count": 2,
     "metadata": {},
     "output_type": "execute_result"
    }
   ],
   "source": [
    "df = pd.read_csv(r\"C:\\Users\\venka\\OneDrive\\Desktop\\Sravya\\Smart Bridge\\Bethany\\soil-moisture.csv\")\n",
    "df"
   ]
  },
  {
   "cell_type": "code",
   "execution_count": 3,
   "id": "744bbafe",
   "metadata": {},
   "outputs": [
    {
     "data": {
      "text/html": [
       "<div>\n",
       "<style scoped>\n",
       "    .dataframe tbody tr th:only-of-type {\n",
       "        vertical-align: middle;\n",
       "    }\n",
       "\n",
       "    .dataframe tbody tr th {\n",
       "        vertical-align: top;\n",
       "    }\n",
       "\n",
       "    .dataframe thead th {\n",
       "        text-align: right;\n",
       "    }\n",
       "</style>\n",
       "<table border=\"1\" class=\"dataframe\">\n",
       "  <thead>\n",
       "    <tr style=\"text-align: right;\">\n",
       "      <th></th>\n",
       "      <th>Month</th>\n",
       "      <th>Day</th>\n",
       "      <th>avg_pm1</th>\n",
       "      <th>avg_pm2</th>\n",
       "      <th>avg_pm3</th>\n",
       "      <th>avg_am</th>\n",
       "      <th>avg_lum</th>\n",
       "      <th>avg_temp</th>\n",
       "      <th>avg_humd</th>\n",
       "      <th>avg_pres</th>\n",
       "      <th>avg_sm</th>\n",
       "    </tr>\n",
       "  </thead>\n",
       "  <tbody>\n",
       "    <tr>\n",
       "      <th>0</th>\n",
       "      <td>Jul</td>\n",
       "      <td>18</td>\n",
       "      <td>3.548400</td>\n",
       "      <td>5.929200</td>\n",
       "      <td>24.940800</td>\n",
       "      <td>0.0</td>\n",
       "      <td>2208.880000</td>\n",
       "      <td>21.660300</td>\n",
       "      <td>90.785900</td>\n",
       "      <td>92940.33720</td>\n",
       "      <td>7435.450000</td>\n",
       "    </tr>\n",
       "    <tr>\n",
       "      <th>1</th>\n",
       "      <td>Jul</td>\n",
       "      <td>19</td>\n",
       "      <td>3.416827</td>\n",
       "      <td>6.403133</td>\n",
       "      <td>116.188916</td>\n",
       "      <td>0.0</td>\n",
       "      <td>3241.160643</td>\n",
       "      <td>23.232932</td>\n",
       "      <td>85.260723</td>\n",
       "      <td>92980.24438</td>\n",
       "      <td>7292.257028</td>\n",
       "    </tr>\n",
       "    <tr>\n",
       "      <th>2</th>\n",
       "      <td>Jul</td>\n",
       "      <td>20</td>\n",
       "      <td>3.030642</td>\n",
       "      <td>5.580000</td>\n",
       "      <td>132.736096</td>\n",
       "      <td>0.0</td>\n",
       "      <td>3333.941176</td>\n",
       "      <td>23.238877</td>\n",
       "      <td>83.925134</td>\n",
       "      <td>93012.82439</td>\n",
       "      <td>7696.133690</td>\n",
       "    </tr>\n",
       "    <tr>\n",
       "      <th>3</th>\n",
       "      <td>Jul</td>\n",
       "      <td>21</td>\n",
       "      <td>3.091991</td>\n",
       "      <td>5.580000</td>\n",
       "      <td>128.520000</td>\n",
       "      <td>0.0</td>\n",
       "      <td>3523.764706</td>\n",
       "      <td>23.670136</td>\n",
       "      <td>81.513756</td>\n",
       "      <td>93014.88014</td>\n",
       "      <td>7489.737557</td>\n",
       "    </tr>\n",
       "    <tr>\n",
       "      <th>4</th>\n",
       "      <td>Jul</td>\n",
       "      <td>22</td>\n",
       "      <td>3.129000</td>\n",
       "      <td>5.580000</td>\n",
       "      <td>128.520000</td>\n",
       "      <td>0.0</td>\n",
       "      <td>3756.722727</td>\n",
       "      <td>23.031273</td>\n",
       "      <td>83.486409</td>\n",
       "      <td>93053.78677</td>\n",
       "      <td>7407.200000</td>\n",
       "    </tr>\n",
       "  </tbody>\n",
       "</table>\n",
       "</div>"
      ],
      "text/plain": [
       "  Month  Day   avg_pm1   avg_pm2     avg_pm3  avg_am      avg_lum   avg_temp  \\\n",
       "0   Jul   18  3.548400  5.929200   24.940800     0.0  2208.880000  21.660300   \n",
       "1   Jul   19  3.416827  6.403133  116.188916     0.0  3241.160643  23.232932   \n",
       "2   Jul   20  3.030642  5.580000  132.736096     0.0  3333.941176  23.238877   \n",
       "3   Jul   21  3.091991  5.580000  128.520000     0.0  3523.764706  23.670136   \n",
       "4   Jul   22  3.129000  5.580000  128.520000     0.0  3756.722727  23.031273   \n",
       "\n",
       "    avg_humd     avg_pres       avg_sm  \n",
       "0  90.785900  92940.33720  7435.450000  \n",
       "1  85.260723  92980.24438  7292.257028  \n",
       "2  83.925134  93012.82439  7696.133690  \n",
       "3  81.513756  93014.88014  7489.737557  \n",
       "4  83.486409  93053.78677  7407.200000  "
      ]
     },
     "execution_count": 3,
     "metadata": {},
     "output_type": "execute_result"
    }
   ],
   "source": [
    "df.head()"
   ]
  },
  {
   "cell_type": "code",
   "execution_count": 4,
   "id": "924290e8",
   "metadata": {},
   "outputs": [
    {
     "data": {
      "text/html": [
       "<div>\n",
       "<style scoped>\n",
       "    .dataframe tbody tr th:only-of-type {\n",
       "        vertical-align: middle;\n",
       "    }\n",
       "\n",
       "    .dataframe tbody tr th {\n",
       "        vertical-align: top;\n",
       "    }\n",
       "\n",
       "    .dataframe thead th {\n",
       "        text-align: right;\n",
       "    }\n",
       "</style>\n",
       "<table border=\"1\" class=\"dataframe\">\n",
       "  <thead>\n",
       "    <tr style=\"text-align: right;\">\n",
       "      <th></th>\n",
       "      <th>Month</th>\n",
       "      <th>Day</th>\n",
       "      <th>avg_pm1</th>\n",
       "      <th>avg_pm2</th>\n",
       "      <th>avg_pm3</th>\n",
       "      <th>avg_am</th>\n",
       "      <th>avg_lum</th>\n",
       "      <th>avg_temp</th>\n",
       "      <th>avg_humd</th>\n",
       "      <th>avg_pres</th>\n",
       "      <th>avg_sm</th>\n",
       "    </tr>\n",
       "  </thead>\n",
       "  <tbody>\n",
       "    <tr>\n",
       "      <th>219</th>\n",
       "      <td>Mar</td>\n",
       "      <td>6</td>\n",
       "      <td>0.879412</td>\n",
       "      <td>1.175882</td>\n",
       "      <td>27.509412</td>\n",
       "      <td>1.568627</td>\n",
       "      <td>2370.686275</td>\n",
       "      <td>25.522157</td>\n",
       "      <td>30.625490</td>\n",
       "      <td>93506.18961</td>\n",
       "      <td>328.196078</td>\n",
       "    </tr>\n",
       "    <tr>\n",
       "      <th>220</th>\n",
       "      <td>Mar</td>\n",
       "      <td>7</td>\n",
       "      <td>0.894615</td>\n",
       "      <td>1.196154</td>\n",
       "      <td>27.549231</td>\n",
       "      <td>2.907692</td>\n",
       "      <td>2919.384615</td>\n",
       "      <td>24.350192</td>\n",
       "      <td>34.319808</td>\n",
       "      <td>93501.60115</td>\n",
       "      <td>327.980769</td>\n",
       "    </tr>\n",
       "    <tr>\n",
       "      <th>221</th>\n",
       "      <td>Mar</td>\n",
       "      <td>8</td>\n",
       "      <td>0.879412</td>\n",
       "      <td>1.175882</td>\n",
       "      <td>27.509412</td>\n",
       "      <td>2.525490</td>\n",
       "      <td>2928.392157</td>\n",
       "      <td>24.857059</td>\n",
       "      <td>36.378824</td>\n",
       "      <td>93480.91706</td>\n",
       "      <td>327.039216</td>\n",
       "    </tr>\n",
       "    <tr>\n",
       "      <th>222</th>\n",
       "      <td>Mar</td>\n",
       "      <td>9</td>\n",
       "      <td>0.894615</td>\n",
       "      <td>1.196154</td>\n",
       "      <td>27.549231</td>\n",
       "      <td>2.276923</td>\n",
       "      <td>2852.634615</td>\n",
       "      <td>25.280385</td>\n",
       "      <td>32.512115</td>\n",
       "      <td>93407.17558</td>\n",
       "      <td>327.076923</td>\n",
       "    </tr>\n",
       "    <tr>\n",
       "      <th>223</th>\n",
       "      <td>Mar</td>\n",
       "      <td>10</td>\n",
       "      <td>0.866522</td>\n",
       "      <td>1.207391</td>\n",
       "      <td>27.714783</td>\n",
       "      <td>1.182609</td>\n",
       "      <td>2302.434783</td>\n",
       "      <td>21.228261</td>\n",
       "      <td>39.660870</td>\n",
       "      <td>93448.49174</td>\n",
       "      <td>326.652174</td>\n",
       "    </tr>\n",
       "  </tbody>\n",
       "</table>\n",
       "</div>"
      ],
      "text/plain": [
       "    Month  Day   avg_pm1   avg_pm2    avg_pm3    avg_am      avg_lum  \\\n",
       "219   Mar    6  0.879412  1.175882  27.509412  1.568627  2370.686275   \n",
       "220   Mar    7  0.894615  1.196154  27.549231  2.907692  2919.384615   \n",
       "221   Mar    8  0.879412  1.175882  27.509412  2.525490  2928.392157   \n",
       "222   Mar    9  0.894615  1.196154  27.549231  2.276923  2852.634615   \n",
       "223   Mar   10  0.866522  1.207391  27.714783  1.182609  2302.434783   \n",
       "\n",
       "      avg_temp   avg_humd     avg_pres      avg_sm  \n",
       "219  25.522157  30.625490  93506.18961  328.196078  \n",
       "220  24.350192  34.319808  93501.60115  327.980769  \n",
       "221  24.857059  36.378824  93480.91706  327.039216  \n",
       "222  25.280385  32.512115  93407.17558  327.076923  \n",
       "223  21.228261  39.660870  93448.49174  326.652174  "
      ]
     },
     "execution_count": 4,
     "metadata": {},
     "output_type": "execute_result"
    }
   ],
   "source": [
    "df.tail()"
   ]
  },
  {
   "cell_type": "code",
   "execution_count": 5,
   "id": "46d63789",
   "metadata": {},
   "outputs": [
    {
     "data": {
      "text/plain": [
       "Aug    31\n",
       "Oct    31\n",
       "Dec    31\n",
       "Sep    30\n",
       "Nov    30\n",
       "Feb    28\n",
       "Jan    19\n",
       "Jul    14\n",
       "Mar    10\n",
       "Name: Month, dtype: int64"
      ]
     },
     "execution_count": 5,
     "metadata": {},
     "output_type": "execute_result"
    }
   ],
   "source": [
    "df['Month'].value_counts()"
   ]
  },
  {
   "cell_type": "code",
   "execution_count": 6,
   "id": "ab635daa",
   "metadata": {},
   "outputs": [
    {
     "data": {
      "text/plain": [
       "(224, 11)"
      ]
     },
     "execution_count": 6,
     "metadata": {},
     "output_type": "execute_result"
    }
   ],
   "source": [
    "df.shape"
   ]
  },
  {
   "cell_type": "code",
   "execution_count": 7,
   "id": "3cb1f8ea",
   "metadata": {},
   "outputs": [
    {
     "data": {
      "text/plain": [
       "Month       0\n",
       "Day         0\n",
       "avg_pm1     0\n",
       "avg_pm2     0\n",
       "avg_pm3     0\n",
       "avg_am      0\n",
       "avg_lum     0\n",
       "avg_temp    0\n",
       "avg_humd    0\n",
       "avg_pres    0\n",
       "avg_sm      0\n",
       "dtype: int64"
      ]
     },
     "execution_count": 7,
     "metadata": {},
     "output_type": "execute_result"
    }
   ],
   "source": [
    "df.isna().sum()"
   ]
  },
  {
   "cell_type": "code",
   "execution_count": 8,
   "id": "abdf3086",
   "metadata": {},
   "outputs": [
    {
     "data": {
      "text/plain": [
       "0"
      ]
     },
     "execution_count": 8,
     "metadata": {},
     "output_type": "execute_result"
    }
   ],
   "source": [
    "df.duplicated().sum()"
   ]
  },
  {
   "cell_type": "code",
   "execution_count": 9,
   "id": "67d2ad9c",
   "metadata": {},
   "outputs": [
    {
     "name": "stdout",
     "output_type": "stream",
     "text": [
      "<class 'pandas.core.frame.DataFrame'>\n",
      "RangeIndex: 224 entries, 0 to 223\n",
      "Data columns (total 11 columns):\n",
      " #   Column    Non-Null Count  Dtype  \n",
      "---  ------    --------------  -----  \n",
      " 0   Month     224 non-null    object \n",
      " 1   Day       224 non-null    int64  \n",
      " 2   avg_pm1   224 non-null    float64\n",
      " 3   avg_pm2   224 non-null    float64\n",
      " 4   avg_pm3   224 non-null    float64\n",
      " 5   avg_am    224 non-null    float64\n",
      " 6   avg_lum   224 non-null    float64\n",
      " 7   avg_temp  224 non-null    float64\n",
      " 8   avg_humd  224 non-null    float64\n",
      " 9   avg_pres  224 non-null    float64\n",
      " 10  avg_sm    224 non-null    float64\n",
      "dtypes: float64(9), int64(1), object(1)\n",
      "memory usage: 19.4+ KB\n"
     ]
    }
   ],
   "source": [
    "df.info()"
   ]
  },
  {
   "cell_type": "code",
   "execution_count": 10,
   "id": "c71a9c55",
   "metadata": {},
   "outputs": [
    {
     "data": {
      "text/html": [
       "<div>\n",
       "<style scoped>\n",
       "    .dataframe tbody tr th:only-of-type {\n",
       "        vertical-align: middle;\n",
       "    }\n",
       "\n",
       "    .dataframe tbody tr th {\n",
       "        vertical-align: top;\n",
       "    }\n",
       "\n",
       "    .dataframe thead th {\n",
       "        text-align: right;\n",
       "    }\n",
       "</style>\n",
       "<table border=\"1\" class=\"dataframe\">\n",
       "  <thead>\n",
       "    <tr style=\"text-align: right;\">\n",
       "      <th></th>\n",
       "      <th>Day</th>\n",
       "      <th>avg_pm1</th>\n",
       "      <th>avg_pm2</th>\n",
       "      <th>avg_pm3</th>\n",
       "      <th>avg_am</th>\n",
       "      <th>avg_lum</th>\n",
       "      <th>avg_temp</th>\n",
       "      <th>avg_humd</th>\n",
       "      <th>avg_pres</th>\n",
       "      <th>avg_sm</th>\n",
       "    </tr>\n",
       "  </thead>\n",
       "  <tbody>\n",
       "    <tr>\n",
       "      <th>count</th>\n",
       "      <td>224.000000</td>\n",
       "      <td>224.000000</td>\n",
       "      <td>224.000000</td>\n",
       "      <td>224.000000</td>\n",
       "      <td>224.000000</td>\n",
       "      <td>224.000000</td>\n",
       "      <td>224.000000</td>\n",
       "      <td>224.000000</td>\n",
       "      <td>224.000000</td>\n",
       "      <td>224.000000</td>\n",
       "    </tr>\n",
       "    <tr>\n",
       "      <th>mean</th>\n",
       "      <td>15.875000</td>\n",
       "      <td>1.365278</td>\n",
       "      <td>2.134474</td>\n",
       "      <td>49.114740</td>\n",
       "      <td>1.014181</td>\n",
       "      <td>2722.153112</td>\n",
       "      <td>22.539300</td>\n",
       "      <td>73.015649</td>\n",
       "      <td>93234.844591</td>\n",
       "      <td>3257.613631</td>\n",
       "    </tr>\n",
       "    <tr>\n",
       "      <th>std</th>\n",
       "      <td>9.113755</td>\n",
       "      <td>0.514288</td>\n",
       "      <td>1.032322</td>\n",
       "      <td>22.774731</td>\n",
       "      <td>0.981695</td>\n",
       "      <td>666.311082</td>\n",
       "      <td>1.534203</td>\n",
       "      <td>19.283496</td>\n",
       "      <td>255.194892</td>\n",
       "      <td>3105.998698</td>\n",
       "    </tr>\n",
       "    <tr>\n",
       "      <th>min</th>\n",
       "      <td>1.000000</td>\n",
       "      <td>0.866522</td>\n",
       "      <td>1.164902</td>\n",
       "      <td>24.940800</td>\n",
       "      <td>0.000000</td>\n",
       "      <td>789.708333</td>\n",
       "      <td>15.612500</td>\n",
       "      <td>29.041698</td>\n",
       "      <td>92472.839310</td>\n",
       "      <td>326.652174</td>\n",
       "    </tr>\n",
       "    <tr>\n",
       "      <th>25%</th>\n",
       "      <td>7.750000</td>\n",
       "      <td>1.030000</td>\n",
       "      <td>1.424875</td>\n",
       "      <td>33.520000</td>\n",
       "      <td>0.000000</td>\n",
       "      <td>2126.516601</td>\n",
       "      <td>21.756993</td>\n",
       "      <td>62.447063</td>\n",
       "      <td>93074.403017</td>\n",
       "      <td>370.662698</td>\n",
       "    </tr>\n",
       "    <tr>\n",
       "      <th>50%</th>\n",
       "      <td>16.000000</td>\n",
       "      <td>1.173074</td>\n",
       "      <td>1.759600</td>\n",
       "      <td>40.588400</td>\n",
       "      <td>1.047947</td>\n",
       "      <td>2844.347474</td>\n",
       "      <td>22.744897</td>\n",
       "      <td>77.770424</td>\n",
       "      <td>93266.479530</td>\n",
       "      <td>908.493421</td>\n",
       "    </tr>\n",
       "    <tr>\n",
       "      <th>75%</th>\n",
       "      <td>24.000000</td>\n",
       "      <td>1.504217</td>\n",
       "      <td>2.405481</td>\n",
       "      <td>55.226049</td>\n",
       "      <td>1.742388</td>\n",
       "      <td>3273.030289</td>\n",
       "      <td>23.551975</td>\n",
       "      <td>88.431701</td>\n",
       "      <td>93392.489513</td>\n",
       "      <td>6733.553362</td>\n",
       "    </tr>\n",
       "    <tr>\n",
       "      <th>max</th>\n",
       "      <td>31.000000</td>\n",
       "      <td>3.548400</td>\n",
       "      <td>6.403133</td>\n",
       "      <td>132.736096</td>\n",
       "      <td>4.347826</td>\n",
       "      <td>4339.593750</td>\n",
       "      <td>25.733922</td>\n",
       "      <td>99.659029</td>\n",
       "      <td>93814.778100</td>\n",
       "      <td>7696.133690</td>\n",
       "    </tr>\n",
       "  </tbody>\n",
       "</table>\n",
       "</div>"
      ],
      "text/plain": [
       "              Day     avg_pm1     avg_pm2     avg_pm3      avg_am  \\\n",
       "count  224.000000  224.000000  224.000000  224.000000  224.000000   \n",
       "mean    15.875000    1.365278    2.134474   49.114740    1.014181   \n",
       "std      9.113755    0.514288    1.032322   22.774731    0.981695   \n",
       "min      1.000000    0.866522    1.164902   24.940800    0.000000   \n",
       "25%      7.750000    1.030000    1.424875   33.520000    0.000000   \n",
       "50%     16.000000    1.173074    1.759600   40.588400    1.047947   \n",
       "75%     24.000000    1.504217    2.405481   55.226049    1.742388   \n",
       "max     31.000000    3.548400    6.403133  132.736096    4.347826   \n",
       "\n",
       "           avg_lum    avg_temp    avg_humd      avg_pres       avg_sm  \n",
       "count   224.000000  224.000000  224.000000    224.000000   224.000000  \n",
       "mean   2722.153112   22.539300   73.015649  93234.844591  3257.613631  \n",
       "std     666.311082    1.534203   19.283496    255.194892  3105.998698  \n",
       "min     789.708333   15.612500   29.041698  92472.839310   326.652174  \n",
       "25%    2126.516601   21.756993   62.447063  93074.403017   370.662698  \n",
       "50%    2844.347474   22.744897   77.770424  93266.479530   908.493421  \n",
       "75%    3273.030289   23.551975   88.431701  93392.489513  6733.553362  \n",
       "max    4339.593750   25.733922   99.659029  93814.778100  7696.133690  "
      ]
     },
     "execution_count": 10,
     "metadata": {},
     "output_type": "execute_result"
    }
   ],
   "source": [
    "df.describe()"
   ]
  },
  {
   "cell_type": "code",
   "execution_count": 11,
   "id": "1e08270e",
   "metadata": {},
   "outputs": [
    {
     "data": {
      "text/plain": [
       "Index(['Month', 'Day', 'avg_pm1', 'avg_pm2', 'avg_pm3', 'avg_am', 'avg_lum',\n",
       "       'avg_temp', 'avg_humd', 'avg_pres', 'avg_sm'],\n",
       "      dtype='object')"
      ]
     },
     "execution_count": 11,
     "metadata": {},
     "output_type": "execute_result"
    }
   ],
   "source": [
    "df.columns"
   ]
  },
  {
   "cell_type": "code",
   "execution_count": 12,
   "id": "b0ab37d0",
   "metadata": {},
   "outputs": [
    {
     "data": {
      "text/html": [
       "<div>\n",
       "<style scoped>\n",
       "    .dataframe tbody tr th:only-of-type {\n",
       "        vertical-align: middle;\n",
       "    }\n",
       "\n",
       "    .dataframe tbody tr th {\n",
       "        vertical-align: top;\n",
       "    }\n",
       "\n",
       "    .dataframe thead th {\n",
       "        text-align: right;\n",
       "    }\n",
       "</style>\n",
       "<table border=\"1\" class=\"dataframe\">\n",
       "  <thead>\n",
       "    <tr style=\"text-align: right;\">\n",
       "      <th></th>\n",
       "      <th>Day</th>\n",
       "      <th>avg_pm1</th>\n",
       "      <th>avg_pm2</th>\n",
       "      <th>avg_pm3</th>\n",
       "      <th>avg_am</th>\n",
       "      <th>avg_lum</th>\n",
       "      <th>avg_temp</th>\n",
       "      <th>avg_humd</th>\n",
       "      <th>avg_pres</th>\n",
       "      <th>avg_sm</th>\n",
       "    </tr>\n",
       "  </thead>\n",
       "  <tbody>\n",
       "    <tr>\n",
       "      <th>Day</th>\n",
       "      <td>1.000000</td>\n",
       "      <td>0.096007</td>\n",
       "      <td>0.096429</td>\n",
       "      <td>0.094845</td>\n",
       "      <td>-0.121076</td>\n",
       "      <td>-0.108920</td>\n",
       "      <td>0.007429</td>\n",
       "      <td>0.018934</td>\n",
       "      <td>0.038497</td>\n",
       "      <td>0.023495</td>\n",
       "    </tr>\n",
       "    <tr>\n",
       "      <th>avg_pm1</th>\n",
       "      <td>0.096007</td>\n",
       "      <td>1.000000</td>\n",
       "      <td>0.998515</td>\n",
       "      <td>0.931487</td>\n",
       "      <td>-0.620894</td>\n",
       "      <td>0.490067</td>\n",
       "      <td>0.074739</td>\n",
       "      <td>0.580940</td>\n",
       "      <td>-0.665735</td>\n",
       "      <td>0.742982</td>\n",
       "    </tr>\n",
       "    <tr>\n",
       "      <th>avg_pm2</th>\n",
       "      <td>0.096429</td>\n",
       "      <td>0.998515</td>\n",
       "      <td>1.000000</td>\n",
       "      <td>0.944266</td>\n",
       "      <td>-0.625120</td>\n",
       "      <td>0.502682</td>\n",
       "      <td>0.076984</td>\n",
       "      <td>0.587759</td>\n",
       "      <td>-0.673570</td>\n",
       "      <td>0.747114</td>\n",
       "    </tr>\n",
       "    <tr>\n",
       "      <th>avg_pm3</th>\n",
       "      <td>0.094845</td>\n",
       "      <td>0.931487</td>\n",
       "      <td>0.944266</td>\n",
       "      <td>1.000000</td>\n",
       "      <td>-0.627792</td>\n",
       "      <td>0.538589</td>\n",
       "      <td>0.091523</td>\n",
       "      <td>0.591941</td>\n",
       "      <td>-0.674443</td>\n",
       "      <td>0.747698</td>\n",
       "    </tr>\n",
       "    <tr>\n",
       "      <th>avg_am</th>\n",
       "      <td>-0.121076</td>\n",
       "      <td>-0.620894</td>\n",
       "      <td>-0.625120</td>\n",
       "      <td>-0.627792</td>\n",
       "      <td>1.000000</td>\n",
       "      <td>-0.488481</td>\n",
       "      <td>-0.129759</td>\n",
       "      <td>-0.673725</td>\n",
       "      <td>0.620152</td>\n",
       "      <td>-0.799049</td>\n",
       "    </tr>\n",
       "    <tr>\n",
       "      <th>avg_lum</th>\n",
       "      <td>-0.108920</td>\n",
       "      <td>0.490067</td>\n",
       "      <td>0.502682</td>\n",
       "      <td>0.538589</td>\n",
       "      <td>-0.488481</td>\n",
       "      <td>1.000000</td>\n",
       "      <td>0.279896</td>\n",
       "      <td>0.624464</td>\n",
       "      <td>-0.551333</td>\n",
       "      <td>0.582989</td>\n",
       "    </tr>\n",
       "    <tr>\n",
       "      <th>avg_temp</th>\n",
       "      <td>0.007429</td>\n",
       "      <td>0.074739</td>\n",
       "      <td>0.076984</td>\n",
       "      <td>0.091523</td>\n",
       "      <td>-0.129759</td>\n",
       "      <td>0.279896</td>\n",
       "      <td>1.000000</td>\n",
       "      <td>-0.193638</td>\n",
       "      <td>-0.009071</td>\n",
       "      <td>0.126597</td>\n",
       "    </tr>\n",
       "    <tr>\n",
       "      <th>avg_humd</th>\n",
       "      <td>0.018934</td>\n",
       "      <td>0.580940</td>\n",
       "      <td>0.587759</td>\n",
       "      <td>0.591941</td>\n",
       "      <td>-0.673725</td>\n",
       "      <td>0.624464</td>\n",
       "      <td>-0.193638</td>\n",
       "      <td>1.000000</td>\n",
       "      <td>-0.637130</td>\n",
       "      <td>0.740389</td>\n",
       "    </tr>\n",
       "    <tr>\n",
       "      <th>avg_pres</th>\n",
       "      <td>0.038497</td>\n",
       "      <td>-0.665735</td>\n",
       "      <td>-0.673570</td>\n",
       "      <td>-0.674443</td>\n",
       "      <td>0.620152</td>\n",
       "      <td>-0.551333</td>\n",
       "      <td>-0.009071</td>\n",
       "      <td>-0.637130</td>\n",
       "      <td>1.000000</td>\n",
       "      <td>-0.695389</td>\n",
       "    </tr>\n",
       "    <tr>\n",
       "      <th>avg_sm</th>\n",
       "      <td>0.023495</td>\n",
       "      <td>0.742982</td>\n",
       "      <td>0.747114</td>\n",
       "      <td>0.747698</td>\n",
       "      <td>-0.799049</td>\n",
       "      <td>0.582989</td>\n",
       "      <td>0.126597</td>\n",
       "      <td>0.740389</td>\n",
       "      <td>-0.695389</td>\n",
       "      <td>1.000000</td>\n",
       "    </tr>\n",
       "  </tbody>\n",
       "</table>\n",
       "</div>"
      ],
      "text/plain": [
       "               Day   avg_pm1   avg_pm2   avg_pm3    avg_am   avg_lum  \\\n",
       "Day       1.000000  0.096007  0.096429  0.094845 -0.121076 -0.108920   \n",
       "avg_pm1   0.096007  1.000000  0.998515  0.931487 -0.620894  0.490067   \n",
       "avg_pm2   0.096429  0.998515  1.000000  0.944266 -0.625120  0.502682   \n",
       "avg_pm3   0.094845  0.931487  0.944266  1.000000 -0.627792  0.538589   \n",
       "avg_am   -0.121076 -0.620894 -0.625120 -0.627792  1.000000 -0.488481   \n",
       "avg_lum  -0.108920  0.490067  0.502682  0.538589 -0.488481  1.000000   \n",
       "avg_temp  0.007429  0.074739  0.076984  0.091523 -0.129759  0.279896   \n",
       "avg_humd  0.018934  0.580940  0.587759  0.591941 -0.673725  0.624464   \n",
       "avg_pres  0.038497 -0.665735 -0.673570 -0.674443  0.620152 -0.551333   \n",
       "avg_sm    0.023495  0.742982  0.747114  0.747698 -0.799049  0.582989   \n",
       "\n",
       "          avg_temp  avg_humd  avg_pres    avg_sm  \n",
       "Day       0.007429  0.018934  0.038497  0.023495  \n",
       "avg_pm1   0.074739  0.580940 -0.665735  0.742982  \n",
       "avg_pm2   0.076984  0.587759 -0.673570  0.747114  \n",
       "avg_pm3   0.091523  0.591941 -0.674443  0.747698  \n",
       "avg_am   -0.129759 -0.673725  0.620152 -0.799049  \n",
       "avg_lum   0.279896  0.624464 -0.551333  0.582989  \n",
       "avg_temp  1.000000 -0.193638 -0.009071  0.126597  \n",
       "avg_humd -0.193638  1.000000 -0.637130  0.740389  \n",
       "avg_pres -0.009071 -0.637130  1.000000 -0.695389  \n",
       "avg_sm    0.126597  0.740389 -0.695389  1.000000  "
      ]
     },
     "execution_count": 12,
     "metadata": {},
     "output_type": "execute_result"
    }
   ],
   "source": [
    "df.corr()"
   ]
  },
  {
   "cell_type": "code",
   "execution_count": 13,
   "id": "492657e3",
   "metadata": {},
   "outputs": [
    {
     "data": {
      "image/png": "[encoded data removed]",
      "text/plain": [
       "<Figure size 432x288 with 2 Axes>"
      ]
     },
     "metadata": {
      "needs_background": "light"
     },
     "output_type": "display_data"
    }
   ],
   "source": [
    "sns.heatmap(df.corr(),annot=True)\n",
    "plt.show()"
   ]
  },
  {
   "cell_type": "code",
   "execution_count": 14,
   "id": "35ba0200",
   "metadata": {},
   "outputs": [
    {
     "data": {
      "image/png": "[encoded data removed]",
      "text/plain": [
       "<Figure size 576x432 with 1 Axes>"
      ]
     },
     "metadata": {
      "needs_background": "light"
     },
     "output_type": "display_data"
    }
   ],
   "source": [
    "plt.figure(figsize=(8,6))\n",
    "plt.bar(df['Month'],df.avg_sm)\n",
    "plt.title('Bar plot of Average Soil Moisture')\n",
    "plt.show()"
   ]
  },
  {
   "cell_type": "code",
   "execution_count": 15,
   "id": "731dbf57",
   "metadata": {},
   "outputs": [
    {
     "data": {
      "image/png": "[encoded data removed]",
      "text/plain": [
       "<Figure size 576x432 with 1 Axes>"
      ]
     },
     "metadata": {
      "needs_background": "light"
     },
     "output_type": "display_data"
    }
   ],
   "source": [
    "plt.figure(figsize=(8, 6))\n",
    "plt.boxplot(df['avg_humd'])\n",
    "plt.title('Boxplot for Average Humidity')\n",
    "plt.ylabel('Average Humidity')\n",
    "plt.show()\n"
   ]
  },
  {
   "cell_type": "code",
   "execution_count": 16,
   "id": "fcab8630",
   "metadata": {},
   "outputs": [
    {
     "data": {
      "text/plain": [
       "<AxesSubplot:xlabel='avg_humd', ylabel='Density'>"
      ]
     },
     "execution_count": 16,
     "metadata": {},
     "output_type": "execute_result"
    },
    {
     "data": {
      "image/png": "[encoded data removed]",
      "text/plain": [
       "<Figure size 432x288 with 1 Axes>"
      ]
     },
     "metadata": {
      "needs_background": "light"
     },
     "output_type": "display_data"
    }
   ],
   "source": [
    "sns.kdeplot(df.avg_humd)"
   ]
  },
  {
   "cell_type": "code",
   "execution_count": 17,
   "id": "1d2b3b75",
   "metadata": {},
   "outputs": [
    {
     "data": {
      "text/plain": [
       "-0.7756347412120641"
      ]
     },
     "execution_count": 17,
     "metadata": {},
     "output_type": "execute_result"
    }
   ],
   "source": [
    "df.avg_humd.skew()"
   ]
  },
  {
   "cell_type": "code",
   "execution_count": 18,
   "id": "051192e4",
   "metadata": {},
   "outputs": [],
   "source": [
    "import scipy.stats as ss"
   ]
  },
  {
   "cell_type": "code",
   "execution_count": 19,
   "id": "d49be857",
   "metadata": {},
   "outputs": [
    {
     "data": {
      "image/png": "[encoded data removed]",
      "text/plain": [
       "<Figure size 432x288 with 1 Axes>"
      ]
     },
     "metadata": {
      "needs_background": "light"
     },
     "output_type": "display_data"
    }
   ],
   "source": [
    "ss.probplot(df.avg_humd,dist='norm',plot=plt)\n",
    "plt.show()"
   ]
  },
  {
   "cell_type": "code",
   "execution_count": 20,
   "id": "8a37ecfb",
   "metadata": {},
   "outputs": [
    {
     "name": "stderr",
     "output_type": "stream",
     "text": [
      "C:\\Users\\venka\\anaconda3\\lib\\site-packages\\seaborn\\_decorators.py:36: FutureWarning: Pass the following variable as a keyword arg: x. From version 0.12, the only valid positional argument will be `data`, and passing other arguments without an explicit keyword will result in an error or misinterpretation.\n",
      "  warnings.warn(\n"
     ]
    },
    {
     "data": {
      "image/png": "[encoded data removed]",
      "text/plain": [
       "<Figure size 576x432 with 1 Axes>"
      ]
     },
     "metadata": {
      "needs_background": "light"
     },
     "output_type": "display_data"
    }
   ],
   "source": [
    "plt.figure(figsize=(8, 6))\n",
    "sns.boxplot(df['avg_temp'])\n",
    "plt.title('Boxplot for Average Temperature')\n",
    "plt.ylabel('Average Temperature')\n",
    "plt.show()\n"
   ]
  },
  {
   "cell_type": "code",
   "execution_count": 21,
   "id": "d7fa3877",
   "metadata": {},
   "outputs": [
    {
     "data": {
      "text/plain": [
       "0.75    23.551975\n",
       "0.50    22.744897\n",
       "0.25    21.756993\n",
       "1.00    25.733922\n",
       "Name: avg_temp, dtype: float64"
      ]
     },
     "execution_count": 21,
     "metadata": {},
     "output_type": "execute_result"
    }
   ],
   "source": [
    "quant = df.avg_temp.quantile(q=[0.75,0.5,0.25,1])\n",
    "quant"
   ]
  },
  {
   "cell_type": "code",
   "execution_count": 22,
   "id": "c4032b0c",
   "metadata": {},
   "outputs": [
    {
     "data": {
      "text/plain": [
       "23.551975447500002"
      ]
     },
     "execution_count": 22,
     "metadata": {},
     "output_type": "execute_result"
    }
   ],
   "source": [
    "Q3 = df['avg_temp'].quantile(0.75)\n",
    "Q3"
   ]
  },
  {
   "cell_type": "code",
   "execution_count": 23,
   "id": "49701b28",
   "metadata": {},
   "outputs": [
    {
     "data": {
      "text/plain": [
       "21.7569930075"
      ]
     },
     "execution_count": 23,
     "metadata": {},
     "output_type": "execute_result"
    }
   ],
   "source": [
    "Q1 = df['avg_temp'].quantile(0.25)\n",
    "Q1"
   ]
  },
  {
   "cell_type": "code",
   "execution_count": 24,
   "id": "dbd1edf5",
   "metadata": {},
   "outputs": [
    {
     "data": {
      "text/plain": [
       "1.7949824400000018"
      ]
     },
     "execution_count": 24,
     "metadata": {},
     "output_type": "execute_result"
    }
   ],
   "source": [
    "IQR = Q3 - Q1\n",
    "IQR"
   ]
  },
  {
   "cell_type": "code",
   "execution_count": 25,
   "id": "5b7ea4f3",
   "metadata": {},
   "outputs": [
    {
     "data": {
      "text/plain": [
       "26.244449107500003"
      ]
     },
     "execution_count": 25,
     "metadata": {},
     "output_type": "execute_result"
    }
   ],
   "source": [
    "Max_Whisker = Q3 + 1.5 * IQR\n",
    "Max_Whisker"
   ]
  },
  {
   "cell_type": "code",
   "execution_count": 26,
   "id": "5cb668af",
   "metadata": {},
   "outputs": [
    {
     "data": {
      "text/plain": [
       "19.064519347499996"
      ]
     },
     "execution_count": 26,
     "metadata": {},
     "output_type": "execute_result"
    }
   ],
   "source": [
    "Min_Whisker = Q1 - 1.5 * IQR\n",
    "Min_Whisker"
   ]
  },
  {
   "cell_type": "code",
   "execution_count": 27,
   "id": "e51a8081",
   "metadata": {},
   "outputs": [
    {
     "data": {
      "text/html": [
       "<div>\n",
       "<style scoped>\n",
       "    .dataframe tbody tr th:only-of-type {\n",
       "        vertical-align: middle;\n",
       "    }\n",
       "\n",
       "    .dataframe tbody tr th {\n",
       "        vertical-align: top;\n",
       "    }\n",
       "\n",
       "    .dataframe thead th {\n",
       "        text-align: right;\n",
       "    }\n",
       "</style>\n",
       "<table border=\"1\" class=\"dataframe\">\n",
       "  <thead>\n",
       "    <tr style=\"text-align: right;\">\n",
       "      <th></th>\n",
       "      <th>Month</th>\n",
       "      <th>Day</th>\n",
       "      <th>avg_pm1</th>\n",
       "      <th>avg_pm2</th>\n",
       "      <th>avg_pm3</th>\n",
       "      <th>avg_am</th>\n",
       "      <th>avg_lum</th>\n",
       "      <th>avg_temp</th>\n",
       "      <th>avg_humd</th>\n",
       "      <th>avg_pres</th>\n",
       "      <th>avg_sm</th>\n",
       "    </tr>\n",
       "  </thead>\n",
       "  <tbody>\n",
       "    <tr>\n",
       "      <th>0</th>\n",
       "      <td>Jul</td>\n",
       "      <td>18</td>\n",
       "      <td>3.548400</td>\n",
       "      <td>5.929200</td>\n",
       "      <td>24.940800</td>\n",
       "      <td>0.000000</td>\n",
       "      <td>2208.880000</td>\n",
       "      <td>21.660300</td>\n",
       "      <td>90.785900</td>\n",
       "      <td>92940.33720</td>\n",
       "      <td>7435.450000</td>\n",
       "    </tr>\n",
       "    <tr>\n",
       "      <th>1</th>\n",
       "      <td>Jul</td>\n",
       "      <td>19</td>\n",
       "      <td>3.416827</td>\n",
       "      <td>6.403133</td>\n",
       "      <td>116.188916</td>\n",
       "      <td>0.000000</td>\n",
       "      <td>3241.160643</td>\n",
       "      <td>23.232932</td>\n",
       "      <td>85.260723</td>\n",
       "      <td>92980.24438</td>\n",
       "      <td>7292.257028</td>\n",
       "    </tr>\n",
       "    <tr>\n",
       "      <th>2</th>\n",
       "      <td>Jul</td>\n",
       "      <td>20</td>\n",
       "      <td>3.030642</td>\n",
       "      <td>5.580000</td>\n",
       "      <td>132.736096</td>\n",
       "      <td>0.000000</td>\n",
       "      <td>3333.941176</td>\n",
       "      <td>23.238877</td>\n",
       "      <td>83.925134</td>\n",
       "      <td>93012.82439</td>\n",
       "      <td>7696.133690</td>\n",
       "    </tr>\n",
       "    <tr>\n",
       "      <th>3</th>\n",
       "      <td>Jul</td>\n",
       "      <td>21</td>\n",
       "      <td>3.091991</td>\n",
       "      <td>5.580000</td>\n",
       "      <td>128.520000</td>\n",
       "      <td>0.000000</td>\n",
       "      <td>3523.764706</td>\n",
       "      <td>23.670136</td>\n",
       "      <td>81.513756</td>\n",
       "      <td>93014.88014</td>\n",
       "      <td>7489.737557</td>\n",
       "    </tr>\n",
       "    <tr>\n",
       "      <th>4</th>\n",
       "      <td>Jul</td>\n",
       "      <td>22</td>\n",
       "      <td>3.129000</td>\n",
       "      <td>5.580000</td>\n",
       "      <td>128.520000</td>\n",
       "      <td>0.000000</td>\n",
       "      <td>3756.722727</td>\n",
       "      <td>23.031273</td>\n",
       "      <td>83.486409</td>\n",
       "      <td>93053.78677</td>\n",
       "      <td>7407.200000</td>\n",
       "    </tr>\n",
       "    <tr>\n",
       "      <th>...</th>\n",
       "      <td>...</td>\n",
       "      <td>...</td>\n",
       "      <td>...</td>\n",
       "      <td>...</td>\n",
       "      <td>...</td>\n",
       "      <td>...</td>\n",
       "      <td>...</td>\n",
       "      <td>...</td>\n",
       "      <td>...</td>\n",
       "      <td>...</td>\n",
       "      <td>...</td>\n",
       "    </tr>\n",
       "    <tr>\n",
       "      <th>219</th>\n",
       "      <td>Mar</td>\n",
       "      <td>6</td>\n",
       "      <td>0.879412</td>\n",
       "      <td>1.175882</td>\n",
       "      <td>27.509412</td>\n",
       "      <td>1.568627</td>\n",
       "      <td>2370.686275</td>\n",
       "      <td>25.522157</td>\n",
       "      <td>30.625490</td>\n",
       "      <td>93506.18961</td>\n",
       "      <td>328.196078</td>\n",
       "    </tr>\n",
       "    <tr>\n",
       "      <th>220</th>\n",
       "      <td>Mar</td>\n",
       "      <td>7</td>\n",
       "      <td>0.894615</td>\n",
       "      <td>1.196154</td>\n",
       "      <td>27.549231</td>\n",
       "      <td>2.907692</td>\n",
       "      <td>2919.384615</td>\n",
       "      <td>24.350192</td>\n",
       "      <td>34.319808</td>\n",
       "      <td>93501.60115</td>\n",
       "      <td>327.980769</td>\n",
       "    </tr>\n",
       "    <tr>\n",
       "      <th>221</th>\n",
       "      <td>Mar</td>\n",
       "      <td>8</td>\n",
       "      <td>0.879412</td>\n",
       "      <td>1.175882</td>\n",
       "      <td>27.509412</td>\n",
       "      <td>2.525490</td>\n",
       "      <td>2928.392157</td>\n",
       "      <td>24.857059</td>\n",
       "      <td>36.378824</td>\n",
       "      <td>93480.91706</td>\n",
       "      <td>327.039216</td>\n",
       "    </tr>\n",
       "    <tr>\n",
       "      <th>222</th>\n",
       "      <td>Mar</td>\n",
       "      <td>9</td>\n",
       "      <td>0.894615</td>\n",
       "      <td>1.196154</td>\n",
       "      <td>27.549231</td>\n",
       "      <td>2.276923</td>\n",
       "      <td>2852.634615</td>\n",
       "      <td>25.280385</td>\n",
       "      <td>32.512115</td>\n",
       "      <td>93407.17558</td>\n",
       "      <td>327.076923</td>\n",
       "    </tr>\n",
       "    <tr>\n",
       "      <th>223</th>\n",
       "      <td>Mar</td>\n",
       "      <td>10</td>\n",
       "      <td>0.866522</td>\n",
       "      <td>1.207391</td>\n",
       "      <td>27.714783</td>\n",
       "      <td>1.182609</td>\n",
       "      <td>2302.434783</td>\n",
       "      <td>21.228261</td>\n",
       "      <td>39.660870</td>\n",
       "      <td>93448.49174</td>\n",
       "      <td>326.652174</td>\n",
       "    </tr>\n",
       "  </tbody>\n",
       "</table>\n",
       "<p>220 rows × 11 columns</p>\n",
       "</div>"
      ],
      "text/plain": [
       "    Month  Day   avg_pm1   avg_pm2     avg_pm3    avg_am      avg_lum  \\\n",
       "0     Jul   18  3.548400  5.929200   24.940800  0.000000  2208.880000   \n",
       "1     Jul   19  3.416827  6.403133  116.188916  0.000000  3241.160643   \n",
       "2     Jul   20  3.030642  5.580000  132.736096  0.000000  3333.941176   \n",
       "3     Jul   21  3.091991  5.580000  128.520000  0.000000  3523.764706   \n",
       "4     Jul   22  3.129000  5.580000  128.520000  0.000000  3756.722727   \n",
       "..    ...  ...       ...       ...         ...       ...          ...   \n",
       "219   Mar    6  0.879412  1.175882   27.509412  1.568627  2370.686275   \n",
       "220   Mar    7  0.894615  1.196154   27.549231  2.907692  2919.384615   \n",
       "221   Mar    8  0.879412  1.175882   27.509412  2.525490  2928.392157   \n",
       "222   Mar    9  0.894615  1.196154   27.549231  2.276923  2852.634615   \n",
       "223   Mar   10  0.866522  1.207391   27.714783  1.182609  2302.434783   \n",
       "\n",
       "      avg_temp   avg_humd     avg_pres       avg_sm  \n",
       "0    21.660300  90.785900  92940.33720  7435.450000  \n",
       "1    23.232932  85.260723  92980.24438  7292.257028  \n",
       "2    23.238877  83.925134  93012.82439  7696.133690  \n",
       "3    23.670136  81.513756  93014.88014  7489.737557  \n",
       "4    23.031273  83.486409  93053.78677  7407.200000  \n",
       "..         ...        ...          ...          ...  \n",
       "219  25.522157  30.625490  93506.18961   328.196078  \n",
       "220  24.350192  34.319808  93501.60115   327.980769  \n",
       "221  24.857059  36.378824  93480.91706   327.039216  \n",
       "222  25.280385  32.512115  93407.17558   327.076923  \n",
       "223  21.228261  39.660870  93448.49174   326.652174  \n",
       "\n",
       "[220 rows x 11 columns]"
      ]
     },
     "execution_count": 27,
     "metadata": {},
     "output_type": "execute_result"
    }
   ],
   "source": [
    "df_no_outliers = df[(df['avg_temp'] >= Min_Whisker) & (df['avg_temp'] <= Max_Whisker)]\n",
    "df_no_outliers"
   ]
  },
  {
   "cell_type": "code",
   "execution_count": 28,
   "id": "85590090",
   "metadata": {},
   "outputs": [
    {
     "name": "stderr",
     "output_type": "stream",
     "text": [
      "C:\\Users\\venka\\anaconda3\\lib\\site-packages\\seaborn\\_decorators.py:36: FutureWarning: Pass the following variable as a keyword arg: x. From version 0.12, the only valid positional argument will be `data`, and passing other arguments without an explicit keyword will result in an error or misinterpretation.\n",
      "  warnings.warn(\n"
     ]
    },
    {
     "data": {
      "image/png": "[encoded data removed]",
      "text/plain": [
       "<Figure size 576x432 with 1 Axes>"
      ]
     },
     "metadata": {
      "needs_background": "light"
     },
     "output_type": "display_data"
    }
   ],
   "source": [
    "plt.figure(figsize=(8, 6))\n",
    "sns.boxplot(df_no_outliers['avg_temp'])\n",
    "plt.title('Boxplot for Average Temperature')\n",
    "plt.ylabel('Average Temperature')\n",
    "plt.show()"
   ]
  },
  {
   "cell_type": "code",
   "execution_count": 29,
   "id": "b0822b5e",
   "metadata": {},
   "outputs": [
    {
     "data": {
      "text/plain": [
       "<AxesSubplot:xlabel='avg_temp', ylabel='Density'>"
      ]
     },
     "execution_count": 29,
     "metadata": {},
     "output_type": "execute_result"
    },
    {
     "data": {
      "image/png": "[encoded data removed]",
      "text/plain": [
       "<Figure size 432x288 with 1 Axes>"
      ]
     },
     "metadata": {
      "needs_background": "light"
     },
     "output_type": "display_data"
    }
   ],
   "source": [
    "sns.kdeplot(df.avg_temp)"
   ]
  },
  {
   "cell_type": "code",
   "execution_count": 30,
   "id": "690a3c23",
   "metadata": {},
   "outputs": [
    {
     "data": {
      "text/plain": [
       "-0.8599084062360317"
      ]
     },
     "execution_count": 30,
     "metadata": {},
     "output_type": "execute_result"
    }
   ],
   "source": [
    "df.avg_temp.skew()"
   ]
  },
  {
   "cell_type": "code",
   "execution_count": 31,
   "id": "ecd0662a",
   "metadata": {},
   "outputs": [
    {
     "name": "stderr",
     "output_type": "stream",
     "text": [
      "C:\\Users\\venka\\anaconda3\\lib\\site-packages\\seaborn\\_decorators.py:36: FutureWarning: Pass the following variable as a keyword arg: x. From version 0.12, the only valid positional argument will be `data`, and passing other arguments without an explicit keyword will result in an error or misinterpretation.\n",
      "  warnings.warn(\n"
     ]
    },
    {
     "data": {
      "image/png": "[encoded data removed]",
      "text/plain": [
       "<Figure size 576x432 with 1 Axes>"
      ]
     },
     "metadata": {
      "needs_background": "light"
     },
     "output_type": "display_data"
    }
   ],
   "source": [
    "plt.figure(figsize=(8, 6))\n",
    "sns.boxplot(df['avg_sm'])\n",
    "plt.title('Boxplot for Average Soil Moisture')\n",
    "plt.show()"
   ]
  },
  {
   "cell_type": "code",
   "execution_count": 32,
   "id": "f15ab91f",
   "metadata": {},
   "outputs": [
    {
     "data": {
      "image/png": "[encoded data removed]",
      "text/plain": [
       "<Figure size 432x288 with 1 Axes>"
      ]
     },
     "metadata": {
      "needs_background": "light"
     },
     "output_type": "display_data"
    }
   ],
   "source": [
    "\n",
    "sns.kdeplot(df.avg_sm)\n",
    "plt.show()"
   ]
  },
  {
   "cell_type": "code",
   "execution_count": 33,
   "id": "78ab259e",
   "metadata": {},
   "outputs": [
    {
     "data": {
      "text/plain": [
       "0.2624091459611347"
      ]
     },
     "execution_count": 33,
     "metadata": {},
     "output_type": "execute_result"
    }
   ],
   "source": [
    "df.avg_sm.skew()"
   ]
  },
  {
   "cell_type": "code",
   "execution_count": 34,
   "id": "568a6f63",
   "metadata": {},
   "outputs": [],
   "source": [
    "import scipy.stats as ss"
   ]
  },
  {
   "cell_type": "code",
   "execution_count": 35,
   "id": "720a7e0a",
   "metadata": {},
   "outputs": [
    {
     "data": {
      "image/png": "[encoded data removed]",
      "text/plain": [
       "<Figure size 432x288 with 1 Axes>"
      ]
     },
     "metadata": {
      "needs_background": "light"
     },
     "output_type": "display_data"
    }
   ],
   "source": [
    "ss.probplot(df.avg_sm,dist='norm',plot=plt)\n",
    "plt.show()"
   ]
  },
  {
   "cell_type": "code",
   "execution_count": 36,
   "id": "49f79289",
   "metadata": {},
   "outputs": [
    {
     "data": {
      "text/plain": [
       "3257.6136313816955"
      ]
     },
     "execution_count": 36,
     "metadata": {},
     "output_type": "execute_result"
    }
   ],
   "source": [
    "mean = df.avg_sm.mean()\n",
    "mean"
   ]
  },
  {
   "cell_type": "code",
   "execution_count": 37,
   "id": "668a9617",
   "metadata": {},
   "outputs": [
    {
     "data": {
      "text/plain": [
       "3105.9986982517144"
      ]
     },
     "execution_count": 37,
     "metadata": {},
     "output_type": "execute_result"
    }
   ],
   "source": [
    "std = df.avg_sm.std()\n",
    "std"
   ]
  },
  {
   "cell_type": "code",
   "execution_count": 38,
   "id": "a7ade179",
   "metadata": {},
   "outputs": [
    {
     "data": {
      "text/plain": [
       "9317.996094755143"
      ]
     },
     "execution_count": 38,
     "metadata": {},
     "output_type": "execute_result"
    }
   ],
   "source": [
    "threshold = 3*std\n",
    "threshold"
   ]
  },
  {
   "cell_type": "code",
   "execution_count": 39,
   "id": "901255d9",
   "metadata": {},
   "outputs": [
    {
     "data": {
      "text/plain": [
       "12575.609726136838"
      ]
     },
     "execution_count": 39,
     "metadata": {},
     "output_type": "execute_result"
    }
   ],
   "source": [
    "upper = mean + threshold\n",
    "upper"
   ]
  },
  {
   "cell_type": "code",
   "execution_count": 40,
   "id": "edd38de5",
   "metadata": {},
   "outputs": [
    {
     "data": {
      "text/plain": [
       "-6060.3824633734475"
      ]
     },
     "execution_count": 40,
     "metadata": {},
     "output_type": "execute_result"
    }
   ],
   "source": [
    "lower = mean - threshold\n",
    "lower"
   ]
  },
  {
   "cell_type": "code",
   "execution_count": 41,
   "id": "ccdbc97a",
   "metadata": {},
   "outputs": [
    {
     "data": {
      "text/plain": [
       "array([7435.45     , 7292.257028 , 7696.13369  , 7489.737557 ,\n",
       "       7407.2      , 7073.700461 , 6778.054945 , 6920.14359  ,\n",
       "       6543.608911 , 6540.594872 , 7156.544118 , 7243.569832 ,\n",
       "       6887.1      , 6928.581006 , 6760.55618  , 6493.698324 ,\n",
       "       6322.482759 , 6772.874214 , 7180.050314 , 7175.943038 ,\n",
       "       7024.50625  , 7024.829114 , 6947.069182 , 7127.662069 ,\n",
       "       7042.479167 , 7204.006993 , 7175.326389 , 6825.194444 ,\n",
       "       6668.965035 , 6871.13986  , 6833.171642 , 7161.175573 ,\n",
       "       6871.829457 , 7025.343511 , 7025.161538 , 7046.152672 ,\n",
       "       7022.618321 , 6873.580153 , 6717.950413 , 6508.453782 ,\n",
       "       6697.504202 , 6724.716667 , 6211.883333 , 6429.3      ,\n",
       "       6727.714286 , 6985.9      , 6854.104348 , 6984.783784 ,\n",
       "       7085.627273 , 7136.513761 , 7128.765766 , 7182.972973 ,\n",
       "       7183.336364 , 7198.972477 , 7186.590909 , 7166.214953 ,\n",
       "       7185.15534  , 7232.466019 , 7214.145631 , 7222.92233  ,\n",
       "       7184.116505 , 7161.475728 , 7151.078431 , 7109.834951 ,\n",
       "       6995.786408 , 6849.381443 , 6595.177083 , 5926.135417 ,\n",
       "       4537.59375  , 3437.729167 , 2731.46875  , 2228.729167 ,\n",
       "       1792.4375   , 1436.708333 , 3493.770833 , 6196.882979 ,\n",
       "       6271.511111 , 6347.244444 , 6367.833333 , 6374.366667 ,\n",
       "       6338.088889 , 6252.144444 , 6140.711111 , 5833.111111 ,\n",
       "       6052.788889 , 6351.227273 , 6416.704545 , 6431.235294 ,\n",
       "       6436.190476 , 6525.235294 , 6508.282353 , 6518.094118 ,\n",
       "       6576.785714 , 6575.058824 , 6691.658824 , 6724.154762 ,\n",
       "       6754.411765 , 6751.070588 , 6648.109756 , 6496.4      ,\n",
       "       6227.987342 , 5444.962025 , 3757.9875   , 2683.7125   ,\n",
       "       2136.525    , 1670.575    , 1361.1375   ,  738.0625   ,\n",
       "        609.125    , 1019.2375   ,  988.7179487,  965.0263158,\n",
       "        941.56     ,  919.6973684,  897.2894737,  870.4459459,\n",
       "        843.4189189,  816.0526316,  786.1842105,  755.7368421,\n",
       "        726.5263158,  699.8933333,  670.0657895,  641.1232877,\n",
       "        615.7361111,  593.1666667,  572.0555556,  559.3611111,\n",
       "        545.4305556,  530.6527778,  519.8333333,  509.5633803,\n",
       "        501.7638889,  493.0277778,  485.3611111,  477.8333333,\n",
       "        468.6666667,  464.9558824,  462.5942029,  456.3235294,\n",
       "        448.7536232,  440.4492754,  431.7794118,  426.9230769,\n",
       "        420.5897436,  417.3970588,  415.2753623,  413.8405797,\n",
       "        413.1692308,  414.0923077,  411.0757576,  407.03125  ,\n",
       "        404.8730159,  402.5606061,  398.4769231,  393.9242424,\n",
       "        390.5538462,  387.8030303,  385.5384615,  382.9538462,\n",
       "        379.796875 ,  379.2258065,  380.8888889,  379.7142857,\n",
       "        377.6129032,  376.2063492,  373.6774194,  371.2380952,\n",
       "        368.9365079,  367.1451613,  365.5555556,  362.8095238,\n",
       "        360.4354839,  359.0833333,  344.7878788,  342.5666667,\n",
       "        342.2542373,  342.3448276,  343.3793103,  344.9122807,\n",
       "        346.2241379,  346.2982456,  344.3103448,  342.3448276,\n",
       "        341.9298246,  342.5      ,  342.0701754,  340.8448276,\n",
       "        339.2068966,  340.4210526,  341.5517241,  341.625    ,\n",
       "        341.4363636,  340.8035714,  340.5454545,  340.2909091,\n",
       "        339.7636364,  339.0181818,  338.1071429,  335.8727273,\n",
       "        333.8909091,  332.9464286,  332.3272727,  332.1636364,\n",
       "        332.6071429,  332.8      ,  333.5740741,  333.5471698,\n",
       "        333.3207547,  332.5      ,  331.9433962,  331.6037736,\n",
       "        331.037037 ,  330.6792453,  330.1320755,  330.0740741,\n",
       "        329.1320755,  328.5098039,  328.3333333,  328.1960784,\n",
       "        327.9807692,  327.0392157,  327.0769231,  326.6521739])"
      ]
     },
     "execution_count": 41,
     "metadata": {},
     "output_type": "execute_result"
    }
   ],
   "source": [
    "np.where(df.avg_sm>12575.609726136838,12575.609726136838,df.avg_sm)"
   ]
  },
  {
   "cell_type": "code",
   "execution_count": 42,
   "id": "b9b0c1a0",
   "metadata": {},
   "outputs": [
    {
     "data": {
      "image/png": "[encoded data removed]",
      "text/plain": [
       "<Figure size 432x288 with 1 Axes>"
      ]
     },
     "metadata": {
      "needs_background": "light"
     },
     "output_type": "display_data"
    }
   ],
   "source": [
    "plt.scatter(x=df.avg_temp,y=df.avg_humd)\n",
    "plt.show()"
   ]
  },
  {
   "cell_type": "code",
   "execution_count": 43,
   "id": "8a775c04",
   "metadata": {},
   "outputs": [
    {
     "data": {
      "text/html": [
       "<div>\n",
       "<style scoped>\n",
       "    .dataframe tbody tr th:only-of-type {\n",
       "        vertical-align: middle;\n",
       "    }\n",
       "\n",
       "    .dataframe tbody tr th {\n",
       "        vertical-align: top;\n",
       "    }\n",
       "\n",
       "    .dataframe thead th {\n",
       "        text-align: right;\n",
       "    }\n",
       "</style>\n",
       "<table border=\"1\" class=\"dataframe\">\n",
       "  <thead>\n",
       "    <tr style=\"text-align: right;\">\n",
       "      <th></th>\n",
       "      <th>Month</th>\n",
       "      <th>Day</th>\n",
       "      <th>avg_pm1</th>\n",
       "      <th>avg_pm2</th>\n",
       "      <th>avg_pm3</th>\n",
       "      <th>avg_am</th>\n",
       "      <th>avg_lum</th>\n",
       "      <th>avg_temp</th>\n",
       "      <th>avg_humd</th>\n",
       "      <th>avg_pres</th>\n",
       "      <th>avg_sm</th>\n",
       "    </tr>\n",
       "  </thead>\n",
       "  <tbody>\n",
       "    <tr>\n",
       "      <th>0</th>\n",
       "      <td>Jul</td>\n",
       "      <td>18</td>\n",
       "      <td>3.548400</td>\n",
       "      <td>5.929200</td>\n",
       "      <td>24.940800</td>\n",
       "      <td>0.000000</td>\n",
       "      <td>2208.880000</td>\n",
       "      <td>21.660300</td>\n",
       "      <td>90.785900</td>\n",
       "      <td>92940.33720</td>\n",
       "      <td>7435.450000</td>\n",
       "    </tr>\n",
       "    <tr>\n",
       "      <th>1</th>\n",
       "      <td>Jul</td>\n",
       "      <td>19</td>\n",
       "      <td>3.416827</td>\n",
       "      <td>6.403133</td>\n",
       "      <td>116.188916</td>\n",
       "      <td>0.000000</td>\n",
       "      <td>3241.160643</td>\n",
       "      <td>23.232932</td>\n",
       "      <td>85.260723</td>\n",
       "      <td>92980.24438</td>\n",
       "      <td>7292.257028</td>\n",
       "    </tr>\n",
       "    <tr>\n",
       "      <th>2</th>\n",
       "      <td>Jul</td>\n",
       "      <td>20</td>\n",
       "      <td>3.030642</td>\n",
       "      <td>5.580000</td>\n",
       "      <td>132.736096</td>\n",
       "      <td>0.000000</td>\n",
       "      <td>3333.941176</td>\n",
       "      <td>23.238877</td>\n",
       "      <td>83.925134</td>\n",
       "      <td>93012.82439</td>\n",
       "      <td>7696.133690</td>\n",
       "    </tr>\n",
       "    <tr>\n",
       "      <th>3</th>\n",
       "      <td>Jul</td>\n",
       "      <td>21</td>\n",
       "      <td>3.091991</td>\n",
       "      <td>5.580000</td>\n",
       "      <td>128.520000</td>\n",
       "      <td>0.000000</td>\n",
       "      <td>3523.764706</td>\n",
       "      <td>23.670136</td>\n",
       "      <td>81.513756</td>\n",
       "      <td>93014.88014</td>\n",
       "      <td>7489.737557</td>\n",
       "    </tr>\n",
       "    <tr>\n",
       "      <th>4</th>\n",
       "      <td>Jul</td>\n",
       "      <td>22</td>\n",
       "      <td>3.129000</td>\n",
       "      <td>5.580000</td>\n",
       "      <td>128.520000</td>\n",
       "      <td>0.000000</td>\n",
       "      <td>3756.722727</td>\n",
       "      <td>23.031273</td>\n",
       "      <td>83.486409</td>\n",
       "      <td>93053.78677</td>\n",
       "      <td>7407.200000</td>\n",
       "    </tr>\n",
       "    <tr>\n",
       "      <th>...</th>\n",
       "      <td>...</td>\n",
       "      <td>...</td>\n",
       "      <td>...</td>\n",
       "      <td>...</td>\n",
       "      <td>...</td>\n",
       "      <td>...</td>\n",
       "      <td>...</td>\n",
       "      <td>...</td>\n",
       "      <td>...</td>\n",
       "      <td>...</td>\n",
       "      <td>...</td>\n",
       "    </tr>\n",
       "    <tr>\n",
       "      <th>219</th>\n",
       "      <td>Mar</td>\n",
       "      <td>6</td>\n",
       "      <td>0.879412</td>\n",
       "      <td>1.175882</td>\n",
       "      <td>27.509412</td>\n",
       "      <td>1.568627</td>\n",
       "      <td>2370.686275</td>\n",
       "      <td>25.522157</td>\n",
       "      <td>30.625490</td>\n",
       "      <td>93506.18961</td>\n",
       "      <td>328.196078</td>\n",
       "    </tr>\n",
       "    <tr>\n",
       "      <th>220</th>\n",
       "      <td>Mar</td>\n",
       "      <td>7</td>\n",
       "      <td>0.894615</td>\n",
       "      <td>1.196154</td>\n",
       "      <td>27.549231</td>\n",
       "      <td>2.907692</td>\n",
       "      <td>2919.384615</td>\n",
       "      <td>24.350192</td>\n",
       "      <td>34.319808</td>\n",
       "      <td>93501.60115</td>\n",
       "      <td>327.980769</td>\n",
       "    </tr>\n",
       "    <tr>\n",
       "      <th>221</th>\n",
       "      <td>Mar</td>\n",
       "      <td>8</td>\n",
       "      <td>0.879412</td>\n",
       "      <td>1.175882</td>\n",
       "      <td>27.509412</td>\n",
       "      <td>2.525490</td>\n",
       "      <td>2928.392157</td>\n",
       "      <td>24.857059</td>\n",
       "      <td>36.378824</td>\n",
       "      <td>93480.91706</td>\n",
       "      <td>327.039216</td>\n",
       "    </tr>\n",
       "    <tr>\n",
       "      <th>222</th>\n",
       "      <td>Mar</td>\n",
       "      <td>9</td>\n",
       "      <td>0.894615</td>\n",
       "      <td>1.196154</td>\n",
       "      <td>27.549231</td>\n",
       "      <td>2.276923</td>\n",
       "      <td>2852.634615</td>\n",
       "      <td>25.280385</td>\n",
       "      <td>32.512115</td>\n",
       "      <td>93407.17558</td>\n",
       "      <td>327.076923</td>\n",
       "    </tr>\n",
       "    <tr>\n",
       "      <th>223</th>\n",
       "      <td>Mar</td>\n",
       "      <td>10</td>\n",
       "      <td>0.866522</td>\n",
       "      <td>1.207391</td>\n",
       "      <td>27.714783</td>\n",
       "      <td>1.182609</td>\n",
       "      <td>2302.434783</td>\n",
       "      <td>21.228261</td>\n",
       "      <td>39.660870</td>\n",
       "      <td>93448.49174</td>\n",
       "      <td>326.652174</td>\n",
       "    </tr>\n",
       "  </tbody>\n",
       "</table>\n",
       "<p>224 rows × 11 columns</p>\n",
       "</div>"
      ],
      "text/plain": [
       "    Month  Day   avg_pm1   avg_pm2     avg_pm3    avg_am      avg_lum  \\\n",
       "0     Jul   18  3.548400  5.929200   24.940800  0.000000  2208.880000   \n",
       "1     Jul   19  3.416827  6.403133  116.188916  0.000000  3241.160643   \n",
       "2     Jul   20  3.030642  5.580000  132.736096  0.000000  3333.941176   \n",
       "3     Jul   21  3.091991  5.580000  128.520000  0.000000  3523.764706   \n",
       "4     Jul   22  3.129000  5.580000  128.520000  0.000000  3756.722727   \n",
       "..    ...  ...       ...       ...         ...       ...          ...   \n",
       "219   Mar    6  0.879412  1.175882   27.509412  1.568627  2370.686275   \n",
       "220   Mar    7  0.894615  1.196154   27.549231  2.907692  2919.384615   \n",
       "221   Mar    8  0.879412  1.175882   27.509412  2.525490  2928.392157   \n",
       "222   Mar    9  0.894615  1.196154   27.549231  2.276923  2852.634615   \n",
       "223   Mar   10  0.866522  1.207391   27.714783  1.182609  2302.434783   \n",
       "\n",
       "      avg_temp   avg_humd     avg_pres       avg_sm  \n",
       "0    21.660300  90.785900  92940.33720  7435.450000  \n",
       "1    23.232932  85.260723  92980.24438  7292.257028  \n",
       "2    23.238877  83.925134  93012.82439  7696.133690  \n",
       "3    23.670136  81.513756  93014.88014  7489.737557  \n",
       "4    23.031273  83.486409  93053.78677  7407.200000  \n",
       "..         ...        ...          ...          ...  \n",
       "219  25.522157  30.625490  93506.18961   328.196078  \n",
       "220  24.350192  34.319808  93501.60115   327.980769  \n",
       "221  24.857059  36.378824  93480.91706   327.039216  \n",
       "222  25.280385  32.512115  93407.17558   327.076923  \n",
       "223  21.228261  39.660870  93448.49174   326.652174  \n",
       "\n",
       "[224 rows x 11 columns]"
      ]
     },
     "execution_count": 43,
     "metadata": {},
     "output_type": "execute_result"
    }
   ],
   "source": [
    "df_no_outliers1 = df[(df['avg_sm'] >= lower) & (df['avg_sm'] <= upper)]\n",
    "df_no_outliers1"
   ]
  },
  {
   "cell_type": "code",
   "execution_count": 44,
   "id": "559b12c3",
   "metadata": {},
   "outputs": [
    {
     "data": {
      "text/plain": [
       "Aug    31\n",
       "Oct    31\n",
       "Dec    31\n",
       "Sep    30\n",
       "Nov    30\n",
       "Feb    28\n",
       "Jan    19\n",
       "Jul    14\n",
       "Mar    10\n",
       "Name: Month, dtype: int64"
      ]
     },
     "execution_count": 44,
     "metadata": {},
     "output_type": "execute_result"
    }
   ],
   "source": [
    "df['Month'].value_counts()"
   ]
  },
  {
   "cell_type": "code",
   "execution_count": 45,
   "id": "84f5e5f4",
   "metadata": {},
   "outputs": [],
   "source": [
    "from sklearn.preprocessing import LabelEncoder\n",
    "le=LabelEncoder()"
   ]
  },
  {
   "cell_type": "code",
   "execution_count": 46,
   "id": "267181bb",
   "metadata": {},
   "outputs": [],
   "source": [
    "df['Month']=le.fit_transform(df['Month'])"
   ]
  },
  {
   "cell_type": "code",
   "execution_count": 47,
   "id": "34b5d8ed",
   "metadata": {},
   "outputs": [
    {
     "data": {
      "text/plain": [
       "0    31\n",
       "7    31\n",
       "1    31\n",
       "8    30\n",
       "6    30\n",
       "2    28\n",
       "3    19\n",
       "4    14\n",
       "5    10\n",
       "Name: Month, dtype: int64"
      ]
     },
     "execution_count": 47,
     "metadata": {},
     "output_type": "execute_result"
    }
   ],
   "source": [
    "df['Month'].value_counts()"
   ]
  },
  {
   "cell_type": "code",
   "execution_count": 48,
   "id": "ef23b175",
   "metadata": {},
   "outputs": [
    {
     "data": {
      "text/html": [
       "<div>\n",
       "<style scoped>\n",
       "    .dataframe tbody tr th:only-of-type {\n",
       "        vertical-align: middle;\n",
       "    }\n",
       "\n",
       "    .dataframe tbody tr th {\n",
       "        vertical-align: top;\n",
       "    }\n",
       "\n",
       "    .dataframe thead th {\n",
       "        text-align: right;\n",
       "    }\n",
       "</style>\n",
       "<table border=\"1\" class=\"dataframe\">\n",
       "  <thead>\n",
       "    <tr style=\"text-align: right;\">\n",
       "      <th></th>\n",
       "      <th>Month</th>\n",
       "      <th>Day</th>\n",
       "      <th>avg_pm1</th>\n",
       "      <th>avg_pm2</th>\n",
       "      <th>avg_pm3</th>\n",
       "      <th>avg_am</th>\n",
       "      <th>avg_lum</th>\n",
       "      <th>avg_temp</th>\n",
       "      <th>avg_humd</th>\n",
       "      <th>avg_pres</th>\n",
       "      <th>avg_sm</th>\n",
       "    </tr>\n",
       "  </thead>\n",
       "  <tbody>\n",
       "    <tr>\n",
       "      <th>0</th>\n",
       "      <td>4</td>\n",
       "      <td>18</td>\n",
       "      <td>3.548400</td>\n",
       "      <td>5.929200</td>\n",
       "      <td>24.940800</td>\n",
       "      <td>0.000000</td>\n",
       "      <td>2208.880000</td>\n",
       "      <td>21.660300</td>\n",
       "      <td>90.785900</td>\n",
       "      <td>92940.33720</td>\n",
       "      <td>7435.450000</td>\n",
       "    </tr>\n",
       "    <tr>\n",
       "      <th>1</th>\n",
       "      <td>4</td>\n",
       "      <td>19</td>\n",
       "      <td>3.416827</td>\n",
       "      <td>6.403133</td>\n",
       "      <td>116.188916</td>\n",
       "      <td>0.000000</td>\n",
       "      <td>3241.160643</td>\n",
       "      <td>23.232932</td>\n",
       "      <td>85.260723</td>\n",
       "      <td>92980.24438</td>\n",
       "      <td>7292.257028</td>\n",
       "    </tr>\n",
       "    <tr>\n",
       "      <th>2</th>\n",
       "      <td>4</td>\n",
       "      <td>20</td>\n",
       "      <td>3.030642</td>\n",
       "      <td>5.580000</td>\n",
       "      <td>132.736096</td>\n",
       "      <td>0.000000</td>\n",
       "      <td>3333.941176</td>\n",
       "      <td>23.238877</td>\n",
       "      <td>83.925134</td>\n",
       "      <td>93012.82439</td>\n",
       "      <td>7696.133690</td>\n",
       "    </tr>\n",
       "    <tr>\n",
       "      <th>3</th>\n",
       "      <td>4</td>\n",
       "      <td>21</td>\n",
       "      <td>3.091991</td>\n",
       "      <td>5.580000</td>\n",
       "      <td>128.520000</td>\n",
       "      <td>0.000000</td>\n",
       "      <td>3523.764706</td>\n",
       "      <td>23.670136</td>\n",
       "      <td>81.513756</td>\n",
       "      <td>93014.88014</td>\n",
       "      <td>7489.737557</td>\n",
       "    </tr>\n",
       "    <tr>\n",
       "      <th>4</th>\n",
       "      <td>4</td>\n",
       "      <td>22</td>\n",
       "      <td>3.129000</td>\n",
       "      <td>5.580000</td>\n",
       "      <td>128.520000</td>\n",
       "      <td>0.000000</td>\n",
       "      <td>3756.722727</td>\n",
       "      <td>23.031273</td>\n",
       "      <td>83.486409</td>\n",
       "      <td>93053.78677</td>\n",
       "      <td>7407.200000</td>\n",
       "    </tr>\n",
       "    <tr>\n",
       "      <th>...</th>\n",
       "      <td>...</td>\n",
       "      <td>...</td>\n",
       "      <td>...</td>\n",
       "      <td>...</td>\n",
       "      <td>...</td>\n",
       "      <td>...</td>\n",
       "      <td>...</td>\n",
       "      <td>...</td>\n",
       "      <td>...</td>\n",
       "      <td>...</td>\n",
       "      <td>...</td>\n",
       "    </tr>\n",
       "    <tr>\n",
       "      <th>219</th>\n",
       "      <td>5</td>\n",
       "      <td>6</td>\n",
       "      <td>0.879412</td>\n",
       "      <td>1.175882</td>\n",
       "      <td>27.509412</td>\n",
       "      <td>1.568627</td>\n",
       "      <td>2370.686275</td>\n",
       "      <td>25.522157</td>\n",
       "      <td>30.625490</td>\n",
       "      <td>93506.18961</td>\n",
       "      <td>328.196078</td>\n",
       "    </tr>\n",
       "    <tr>\n",
       "      <th>220</th>\n",
       "      <td>5</td>\n",
       "      <td>7</td>\n",
       "      <td>0.894615</td>\n",
       "      <td>1.196154</td>\n",
       "      <td>27.549231</td>\n",
       "      <td>2.907692</td>\n",
       "      <td>2919.384615</td>\n",
       "      <td>24.350192</td>\n",
       "      <td>34.319808</td>\n",
       "      <td>93501.60115</td>\n",
       "      <td>327.980769</td>\n",
       "    </tr>\n",
       "    <tr>\n",
       "      <th>221</th>\n",
       "      <td>5</td>\n",
       "      <td>8</td>\n",
       "      <td>0.879412</td>\n",
       "      <td>1.175882</td>\n",
       "      <td>27.509412</td>\n",
       "      <td>2.525490</td>\n",
       "      <td>2928.392157</td>\n",
       "      <td>24.857059</td>\n",
       "      <td>36.378824</td>\n",
       "      <td>93480.91706</td>\n",
       "      <td>327.039216</td>\n",
       "    </tr>\n",
       "    <tr>\n",
       "      <th>222</th>\n",
       "      <td>5</td>\n",
       "      <td>9</td>\n",
       "      <td>0.894615</td>\n",
       "      <td>1.196154</td>\n",
       "      <td>27.549231</td>\n",
       "      <td>2.276923</td>\n",
       "      <td>2852.634615</td>\n",
       "      <td>25.280385</td>\n",
       "      <td>32.512115</td>\n",
       "      <td>93407.17558</td>\n",
       "      <td>327.076923</td>\n",
       "    </tr>\n",
       "    <tr>\n",
       "      <th>223</th>\n",
       "      <td>5</td>\n",
       "      <td>10</td>\n",
       "      <td>0.866522</td>\n",
       "      <td>1.207391</td>\n",
       "      <td>27.714783</td>\n",
       "      <td>1.182609</td>\n",
       "      <td>2302.434783</td>\n",
       "      <td>21.228261</td>\n",
       "      <td>39.660870</td>\n",
       "      <td>93448.49174</td>\n",
       "      <td>326.652174</td>\n",
       "    </tr>\n",
       "  </tbody>\n",
       "</table>\n",
       "<p>224 rows × 11 columns</p>\n",
       "</div>"
      ],
      "text/plain": [
       "     Month  Day   avg_pm1   avg_pm2     avg_pm3    avg_am      avg_lum  \\\n",
       "0        4   18  3.548400  5.929200   24.940800  0.000000  2208.880000   \n",
       "1        4   19  3.416827  6.403133  116.188916  0.000000  3241.160643   \n",
       "2        4   20  3.030642  5.580000  132.736096  0.000000  3333.941176   \n",
       "3        4   21  3.091991  5.580000  128.520000  0.000000  3523.764706   \n",
       "4        4   22  3.129000  5.580000  128.520000  0.000000  3756.722727   \n",
       "..     ...  ...       ...       ...         ...       ...          ...   \n",
       "219      5    6  0.879412  1.175882   27.509412  1.568627  2370.686275   \n",
       "220      5    7  0.894615  1.196154   27.549231  2.907692  2919.384615   \n",
       "221      5    8  0.879412  1.175882   27.509412  2.525490  2928.392157   \n",
       "222      5    9  0.894615  1.196154   27.549231  2.276923  2852.634615   \n",
       "223      5   10  0.866522  1.207391   27.714783  1.182609  2302.434783   \n",
       "\n",
       "      avg_temp   avg_humd     avg_pres       avg_sm  \n",
       "0    21.660300  90.785900  92940.33720  7435.450000  \n",
       "1    23.232932  85.260723  92980.24438  7292.257028  \n",
       "2    23.238877  83.925134  93012.82439  7696.133690  \n",
       "3    23.670136  81.513756  93014.88014  7489.737557  \n",
       "4    23.031273  83.486409  93053.78677  7407.200000  \n",
       "..         ...        ...          ...          ...  \n",
       "219  25.522157  30.625490  93506.18961   328.196078  \n",
       "220  24.350192  34.319808  93501.60115   327.980769  \n",
       "221  24.857059  36.378824  93480.91706   327.039216  \n",
       "222  25.280385  32.512115  93407.17558   327.076923  \n",
       "223  21.228261  39.660870  93448.49174   326.652174  \n",
       "\n",
       "[224 rows x 11 columns]"
      ]
     },
     "execution_count": 48,
     "metadata": {},
     "output_type": "execute_result"
    }
   ],
   "source": [
    "df"
   ]
  },
  {
   "cell_type": "markdown",
   "id": "66818c8f",
   "metadata": {},
   "source": [
    "# Train Test Split"
   ]
  },
  {
   "cell_type": "code",
   "execution_count": 49,
   "id": "dd9baadf",
   "metadata": {},
   "outputs": [],
   "source": [
    "x = df[['Month','Day','avg_temp','avg_humd']]\n",
    "y = df['avg_sm']"
   ]
  },
  {
   "cell_type": "code",
   "execution_count": 50,
   "id": "014fb382",
   "metadata": {},
   "outputs": [],
   "source": [
    "from sklearn.model_selection import train_test_split\n",
    "x_train, x_test, y_train, y_test = train_test_split(x,y,test_size=0.2,random_state=42)"
   ]
  },
  {
   "cell_type": "code",
   "execution_count": 51,
   "id": "18682ba2",
   "metadata": {},
   "outputs": [],
   "source": [
    "from sklearn.preprocessing import StandardScaler\n",
    "ss = StandardScaler()\n",
    "x_train = ss.fit_transform(x_train)\n",
    "x_test = ss.transform(x_test)"
   ]
  },
  {
   "cell_type": "code",
   "execution_count": 52,
   "id": "e681c6e0",
   "metadata": {},
   "outputs": [
    {
     "name": "stdout",
     "output_type": "stream",
     "text": [
      "Proportion of Minority class in train set:  333249.43%\n",
      "Proportion of Minority class in test set:  295975.51%\n"
     ]
    }
   ],
   "source": [
    "print(\"Proportion of Minority class in train set: \", str(round(y_train.sum()/len(y_train)*100,2))+\"%\")\n",
    "print(\"Proportion of Minority class in test set: \", str(round(y_test.sum()/len(y_test)*100,2))+\"%\")"
   ]
  },
  {
   "cell_type": "markdown",
   "id": "293346c3",
   "metadata": {},
   "source": [
    "# Linear Regression"
   ]
  },
  {
   "cell_type": "code",
   "execution_count": 53,
   "id": "b4a7288d",
   "metadata": {},
   "outputs": [
    {
     "data": {
      "text/plain": [
       "LinearRegression()"
      ]
     },
     "execution_count": 53,
     "metadata": {},
     "output_type": "execute_result"
    }
   ],
   "source": [
    "from sklearn.linear_model import LinearRegression\n",
    "LR = LinearRegression()\n",
    "LR.fit(x_train,y_train)"
   ]
  },
  {
   "cell_type": "code",
   "execution_count": 54,
   "id": "a31b606a",
   "metadata": {},
   "outputs": [
    {
     "data": {
      "text/plain": [
       "array([ 5109.07270298,  6290.16810823,  1422.23854185,  -447.4158682 ,\n",
       "         -22.81181733,  1701.38395469,  5032.1973152 ,  1669.79952473,\n",
       "        1559.83095316,  2495.35296154,  6071.95613987,  5425.73796409,\n",
       "       -2239.97087876,  5376.4304896 ,  5283.80200947,  5888.83130294,\n",
       "         575.93209164,  5090.63405466,  -342.02208878,  2963.78130945,\n",
       "        5731.57173591,  5302.18245273,  5857.33076889,   835.80452095,\n",
       "        4934.30766041,   797.20805302,  1112.42052683,  5072.76827657,\n",
       "        5919.55356952,  1983.05754465,  -668.73031814,  5299.72933817,\n",
       "        5441.76634798,   686.76763815,  -195.8549075 ,   973.95702863,\n",
       "        -162.43843836,  3503.70227745,  5871.44591133,  2616.86050764,\n",
       "        3195.64518446,  1771.34774601,    39.19466745,  3393.87351313,\n",
       "        2102.73029715])"
      ]
     },
     "execution_count": 54,
     "metadata": {},
     "output_type": "execute_result"
    }
   ],
   "source": [
    "y_pred = LR.predict(x_test)\n",
    "y_pred"
   ]
  },
  {
   "cell_type": "code",
   "execution_count": 55,
   "id": "7fc20b88",
   "metadata": {},
   "outputs": [
    {
     "name": "stdout",
     "output_type": "stream",
     "text": [
      "Training Accuracy=  0.6121957327878694\n",
      "Test Accuracy=  0.6865973231099529\n"
     ]
    }
   ],
   "source": [
    "print(\"Training Accuracy= \", LR.score(x_train,y_train))\n",
    "print(\"Test Accuracy= \", LR.score(x_test,y_test))"
   ]
  },
  {
   "cell_type": "code",
   "execution_count": 56,
   "id": "945be3f2",
   "metadata": {},
   "outputs": [
    {
     "name": "stdout",
     "output_type": "stream",
     "text": [
      "R-squared:  0.6865973231099529\n"
     ]
    }
   ],
   "source": [
    "from sklearn.metrics import mean_absolute_error, mean_squared_error, r2_score\n",
    "LR_r2score = r2_score(y_test,y_pred)\n",
    "print(\"R-squared: \", LR_r2score)"
   ]
  },
  {
   "cell_type": "markdown",
   "id": "8695f435",
   "metadata": {},
   "source": [
    "# Random Forest Regressor"
   ]
  },
  {
   "cell_type": "code",
   "execution_count": 57,
   "id": "7787a44e",
   "metadata": {},
   "outputs": [],
   "source": [
    "from sklearn.ensemble import RandomForestRegressor"
   ]
  },
  {
   "cell_type": "code",
   "execution_count": 58,
   "id": "4dd6666d",
   "metadata": {},
   "outputs": [],
   "source": [
    "RFR = RandomForestRegressor(n_estimators = 20, random_state = 0)\n",
    "RFR.fit(x_train,y_train)\n",
    "y_pred1 = RFR.predict(x_test)\n",
    "RFR_r2score = r2_score(y_test,y_pred1)"
   ]
  },
  {
   "cell_type": "code",
   "execution_count": 59,
   "id": "b5f8a644",
   "metadata": {},
   "outputs": [
    {
     "name": "stdout",
     "output_type": "stream",
     "text": [
      "R_squared:  0.8970265598773314\n"
     ]
    }
   ],
   "source": [
    "from sklearn import metrics\n",
    "print('R_squared: ',RFR_r2score)"
   ]
  },
  {
   "cell_type": "code",
   "execution_count": 60,
   "id": "1b33eeec",
   "metadata": {},
   "outputs": [
    {
     "name": "stdout",
     "output_type": "stream",
     "text": [
      "Training Accuracy=  0.9734102340086067\n",
      "Test Accuracy=  0.8970265598773314\n"
     ]
    }
   ],
   "source": [
    "from sklearn.metrics import confusion_matrix,accuracy_score\n",
    "print(\"Training Accuracy= \", RFR.score(x_train,y_train))\n",
    "print(\"Test Accuracy= \", RFR.score(x_test,y_test))"
   ]
  },
  {
   "cell_type": "markdown",
   "id": "49f538d1",
   "metadata": {},
   "source": [
    "# Decision Tree Regressor"
   ]
  },
  {
   "cell_type": "code",
   "execution_count": 61,
   "id": "ca923696",
   "metadata": {},
   "outputs": [
    {
     "data": {
      "text/plain": [
       "DecisionTreeRegressor()"
      ]
     },
     "execution_count": 61,
     "metadata": {},
     "output_type": "execute_result"
    }
   ],
   "source": [
    "from sklearn.tree import DecisionTreeRegressor\n",
    "DTR = DecisionTreeRegressor()\n",
    "DTR.fit(x_train, y_train)"
   ]
  },
  {
   "cell_type": "code",
   "execution_count": 62,
   "id": "8b62f81b",
   "metadata": {},
   "outputs": [
    {
     "data": {
      "text/plain": [
       "array([7243.569832 , 6338.088889 ,  843.4189189,  417.3970588,\n",
       "        327.0769231,  941.56     , 7109.834951 , 1670.575    ,\n",
       "        360.4354839,  373.6774194, 7185.15534  , 7175.943038 ,\n",
       "        338.1071429, 7042.479167 , 6871.829457 , 6854.104348 ,\n",
       "        342.5666667, 6995.786408 ,  331.9433962, 6648.109756 ,\n",
       "       6724.154762 , 7175.943038 , 6849.381443 ,  431.7794118,\n",
       "       7127.662069 , 6947.069182 ,  341.625    , 7128.765766 ,\n",
       "       7222.92233  , 3757.9875   ,  332.5      , 2228.729167 ,\n",
       "       7175.943038 ,  340.4210526,  387.8030303,  870.4459459,\n",
       "        387.8030303,  988.7179487, 6338.088889 ,  341.9298246,\n",
       "        456.3235294,  332.8      ,  346.2982456,  699.8933333,\n",
       "        377.6129032])"
      ]
     },
     "execution_count": 62,
     "metadata": {},
     "output_type": "execute_result"
    }
   ],
   "source": [
    "y_pred2 = DTR.predict(x_test)\n",
    "y_pred2"
   ]
  },
  {
   "cell_type": "code",
   "execution_count": 63,
   "id": "df21781e",
   "metadata": {},
   "outputs": [
    {
     "name": "stdout",
     "output_type": "stream",
     "text": [
      "R-squared: 0.7311130748822061\n"
     ]
    }
   ],
   "source": [
    "from sklearn.metrics import r2_score\n",
    "DTR_r2score=r2_score(y_test,y_pred2)\n",
    "print(\"R-squared:\",DTR_r2score)"
   ]
  },
  {
   "cell_type": "code",
   "execution_count": 64,
   "id": "ae0e1f30",
   "metadata": {},
   "outputs": [
    {
     "name": "stdout",
     "output_type": "stream",
     "text": [
      "Training Accuracy=  1.0\n",
      "Test Accuracy=  0.7311130748822061\n"
     ]
    }
   ],
   "source": [
    "print(\"Training Accuracy= \", DTR.score(x_train,y_train))\n",
    "print(\"Test Accuracy= \", DTR.score(x_test,y_test))"
   ]
  },
  {
   "cell_type": "markdown",
   "id": "155d99ad",
   "metadata": {},
   "source": [
    "# XGBoost"
   ]
  },
  {
   "cell_type": "code",
   "execution_count": 65,
   "id": "51852e26",
   "metadata": {},
   "outputs": [
    {
     "name": "stdout",
     "output_type": "stream",
     "text": [
      "R-squared: 0.940738599209349\n"
     ]
    }
   ],
   "source": [
    "import xgboost as xgb\n",
    "from sklearn.metrics import r2_score\n",
    "\n",
    "regressor = xgb.XGBRegressor(n_estimators=100, learning_rate=0.1, max_depth=3, objective='reg:squarederror', random_state=0)\n",
    "regressor.fit(x_train, y_train)\n",
    "y_pred4 = regressor.predict(x_test)\n",
    "XGB_r2score = r2_score(y_test, y_pred4)\n",
    "print(\"R-squared:\", XGB_r2score)\n"
   ]
  },
  {
   "cell_type": "code",
   "execution_count": 66,
   "id": "09f6ff68",
   "metadata": {},
   "outputs": [
    {
     "name": "stdout",
     "output_type": "stream",
     "text": [
      "Training Accuracy=  0.994730881473816\n",
      "Test Accuracy=  0.940738599209349\n"
     ]
    }
   ],
   "source": [
    "print(\"Training Accuracy= \", regressor.score(x_train,y_train))\n",
    "print(\"Test Accuracy= \", regressor.score(x_test,y_test))"
   ]
  },
  {
   "cell_type": "markdown",
   "id": "faa7fec6",
   "metadata": {},
   "source": [
    "# KNN"
   ]
  },
  {
   "cell_type": "code",
   "execution_count": 67,
   "id": "b4ffe617",
   "metadata": {},
   "outputs": [
    {
     "name": "stdout",
     "output_type": "stream",
     "text": [
      "R-squared: 0.7766106181741755\n"
     ]
    }
   ],
   "source": [
    "from sklearn.neighbors import KNeighborsRegressor\n",
    "from sklearn.metrics import mean_absolute_error, mean_squared_error, r2_score\n",
    "\n",
    "knn_regressor = KNeighborsRegressor(n_neighbors=15) \n",
    "knn_regressor.fit(x_train, y_train)\n",
    "y_pred5 = knn_regressor.predict(x_test)\n",
    "KNN_r2score = r2_score(y_test, y_pred5)\n",
    "\n",
    "print(\"R-squared:\", KNN_r2score)\n"
   ]
  },
  {
   "cell_type": "code",
   "execution_count": 68,
   "id": "97afd2d3",
   "metadata": {},
   "outputs": [
    {
     "name": "stdout",
     "output_type": "stream",
     "text": [
      "Training Accuracy=  0.7137423091029751\n",
      "Test Accuracy=  0.7766106181741755\n"
     ]
    }
   ],
   "source": [
    "print(\"Training Accuracy= \", knn_regressor.score(x_train,y_train))\n",
    "print(\"Test Accuracy= \", knn_regressor.score(x_test,y_test))"
   ]
  },
  {
   "cell_type": "code",
   "execution_count": 69,
   "id": "547c0c50",
   "metadata": {},
   "outputs": [],
   "source": [
    "import pickle \n",
    "pickle.dump(knn_regressor,open(\"model.pkl\",\"wb\"))"
   ]
  },
  {
   "cell_type": "code",
   "execution_count": 81,
   "id": "229cd803",
   "metadata": {},
   "outputs": [
    {
     "name": "stdout",
     "output_type": "stream",
     "text": [
      "[4465.82103278]\n"
     ]
    }
   ],
   "source": [
    "print(knn_regressor.predict([[5,30,23,45.04169811]]))"
   ]
  },
  {
   "cell_type": "code",
   "execution_count": 71,
   "id": "4f97500c",
   "metadata": {},
   "outputs": [
    {
     "data": {
      "text/plain": [
       "15.6125"
      ]
     },
     "execution_count": 71,
     "metadata": {},
     "output_type": "execute_result"
    }
   ],
   "source": [
    "df['avg_temp'].min()"
   ]
  },
  {
   "cell_type": "code",
   "execution_count": 72,
   "id": "fa1a28e5",
   "metadata": {},
   "outputs": [
    {
     "data": {
      "text/plain": [
       "25.73392157"
      ]
     },
     "execution_count": 72,
     "metadata": {},
     "output_type": "execute_result"
    }
   ],
   "source": [
    "df['avg_temp'].max()"
   ]
  },
  {
   "cell_type": "code",
   "execution_count": 73,
   "id": "4eb48e1f",
   "metadata": {},
   "outputs": [
    {
     "data": {
      "text/plain": [
       "99.65902913"
      ]
     },
     "execution_count": 73,
     "metadata": {},
     "output_type": "execute_result"
    }
   ],
   "source": [
    "df['avg_humd'].max()"
   ]
  },
  {
   "cell_type": "code",
   "execution_count": 74,
   "id": "fe8a864e",
   "metadata": {},
   "outputs": [
    {
     "data": {
      "text/plain": [
       "29.04169811"
      ]
     },
     "execution_count": 74,
     "metadata": {},
     "output_type": "execute_result"
    }
   ],
   "source": [
    "df['avg_humd'].min()"
   ]
  },
  {
   "cell_type": "code",
   "execution_count": 75,
   "id": "381c3ad9",
   "metadata": {},
   "outputs": [
    {
     "data": {
      "text/plain": [
       "1"
      ]
     },
     "execution_count": 75,
     "metadata": {},
     "output_type": "execute_result"
    }
   ],
   "source": [
    "df['Day'].min()"
   ]
  },
  {
   "cell_type": "code",
   "execution_count": 76,
   "id": "25275fb7",
   "metadata": {},
   "outputs": [
    {
     "data": {
      "text/plain": [
       "31"
      ]
     },
     "execution_count": 76,
     "metadata": {},
     "output_type": "execute_result"
    }
   ],
   "source": [
    "df['Day'].max()"
   ]
  },
  {
   "cell_type": "code",
   "execution_count": 77,
   "id": "810d4fab",
   "metadata": {},
   "outputs": [
    {
     "data": {
      "text/html": [
       "<div>\n",
       "<style scoped>\n",
       "    .dataframe tbody tr th:only-of-type {\n",
       "        vertical-align: middle;\n",
       "    }\n",
       "\n",
       "    .dataframe tbody tr th {\n",
       "        vertical-align: top;\n",
       "    }\n",
       "\n",
       "    .dataframe thead th {\n",
       "        text-align: right;\n",
       "    }\n",
       "</style>\n",
       "<table border=\"1\" class=\"dataframe\">\n",
       "  <thead>\n",
       "    <tr style=\"text-align: right;\">\n",
       "      <th></th>\n",
       "      <th>model</th>\n",
       "      <th>R2_score</th>\n",
       "    </tr>\n",
       "  </thead>\n",
       "  <tbody>\n",
       "    <tr>\n",
       "      <th>0</th>\n",
       "      <td>Linear Regression</td>\n",
       "      <td>0.686597</td>\n",
       "    </tr>\n",
       "    <tr>\n",
       "      <th>1</th>\n",
       "      <td>Decision Tree Regressor</td>\n",
       "      <td>0.897027</td>\n",
       "    </tr>\n",
       "    <tr>\n",
       "      <th>2</th>\n",
       "      <td>Random Forest Regressor</td>\n",
       "      <td>0.731113</td>\n",
       "    </tr>\n",
       "    <tr>\n",
       "      <th>3</th>\n",
       "      <td>XGBoost</td>\n",
       "      <td>0.940739</td>\n",
       "    </tr>\n",
       "    <tr>\n",
       "      <th>4</th>\n",
       "      <td>KNN</td>\n",
       "      <td>0.776611</td>\n",
       "    </tr>\n",
       "  </tbody>\n",
       "</table>\n",
       "</div>"
      ],
      "text/plain": [
       "                     model  R2_score\n",
       "0        Linear Regression  0.686597\n",
       "1  Decision Tree Regressor  0.897027\n",
       "2  Random Forest Regressor  0.731113\n",
       "3                  XGBoost  0.940739\n",
       "4                      KNN  0.776611"
      ]
     },
     "execution_count": 77,
     "metadata": {},
     "output_type": "execute_result"
    }
   ],
   "source": [
    "accuracy_df = pd.DataFrame({'model':['Linear Regression','Decision Tree Regressor','Random Forest Regressor','XGBoost','KNN'],\n",
    "                           'R2_score' : [LR_r2score,RFR_r2score,DTR_r2score,XGB_r2score,KNN_r2score]})\n",
    "accuracy_df"
   ]
  },
  {
   "cell_type": "code",
   "execution_count": 78,
   "id": "a68b928e",
   "metadata": {},
   "outputs": [
    {
     "data": {
      "image/png": "[encoded data removed]",
      "text/plain": [
       "<Figure size 864x576 with 1 Axes>"
      ]
     },
     "metadata": {
      "needs_background": "light"
     },
     "output_type": "display_data"
    }
   ],
   "source": [
    "model = ['Linear Regression','Decision Tree Regressor','Random Forest Regressor','XGBoost','KNN']\n",
    "R2_score = [LR_r2score,RFR_r2score,DTR_r2score,XGB_r2score,KNN_r2score]\n",
    "plt.figure(figsize=(12,8))\n",
    "sns.barplot(x=model,y=R2_score,color = 'Green')\n",
    "plt.show()"
   ]
  },
  {
   "cell_type": "code",
   "execution_count": 79,
   "id": "f4441a22",
   "metadata": {},
   "outputs": [
    {
     "data": {
      "text/plain": [
       "7696.13369"
      ]
     },
     "execution_count": 79,
     "metadata": {},
     "output_type": "execute_result"
    }
   ],
   "source": [
    "df['avg_sm'].max()"
   ]
  },
  {
   "cell_type": "code",
   "execution_count": 80,
   "id": "7b42b72c",
   "metadata": {},
   "outputs": [
    {
     "data": {
      "text/plain": [
       "326.6521739"
      ]
     },
     "execution_count": 80,
     "metadata": {},
     "output_type": "execute_result"
    }
   ],
   "source": [
    "df['avg_sm'].min()"
   ]
  },
  {
   "cell_type": "code",
   "execution_count": null,
   "id": "1819fa4a",
   "metadata": {},
   "outputs": [],
   "source": []
  }
 ],
 "metadata": {
  "kernelspec": {
   "display_name": "Python 3 (ipykernel)",
   "language": "python",
   "name": "python3"
  },
  "language_info": {
   "codemirror_mode": {
    "name": "ipython",
    "version": 3
   },
   "file_extension": ".py",
   "mimetype": "text/x-python",
   "name": "python",
   "nbconvert_exporter": "python",
   "pygments_lexer": "ipython3",
   "version": "3.9.7"
  }
 },
 "nbformat": 4,
 "nbformat_minor": 5
}
